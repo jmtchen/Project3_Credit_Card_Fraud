{
 "cells": [
  {
   "cell_type": "code",
   "execution_count": 1,
   "metadata": {
    "collapsed": true
   },
   "outputs": [],
   "source": [
    "import pandas as pd\n",
    "import csv\n",
    "import os\n",
    "import numpy as np"
   ]
  },
  {
   "cell_type": "code",
   "execution_count": 34,
   "metadata": {},
   "outputs": [
    {
     "data": {
      "text/html": [
       "<div>\n",
       "<style>\n",
       "    .dataframe thead tr:only-child th {\n",
       "        text-align: right;\n",
       "    }\n",
       "\n",
       "    .dataframe thead th {\n",
       "        text-align: left;\n",
       "    }\n",
       "\n",
       "    .dataframe tbody tr th {\n",
       "        vertical-align: top;\n",
       "    }\n",
       "</style>\n",
       "<table border=\"1\" class=\"dataframe\">\n",
       "  <thead>\n",
       "    <tr style=\"text-align: right;\">\n",
       "      <th></th>\n",
       "      <th>Unnamed: 0</th>\n",
       "      <th>X1</th>\n",
       "      <th>X2</th>\n",
       "      <th>X3</th>\n",
       "      <th>X4</th>\n",
       "      <th>X5</th>\n",
       "      <th>X6</th>\n",
       "      <th>X7</th>\n",
       "      <th>X8</th>\n",
       "      <th>X9</th>\n",
       "      <th>...</th>\n",
       "      <th>X15</th>\n",
       "      <th>X16</th>\n",
       "      <th>X17</th>\n",
       "      <th>X18</th>\n",
       "      <th>X19</th>\n",
       "      <th>X20</th>\n",
       "      <th>X21</th>\n",
       "      <th>X22</th>\n",
       "      <th>X23</th>\n",
       "      <th>Y</th>\n",
       "    </tr>\n",
       "  </thead>\n",
       "  <tbody>\n",
       "    <tr>\n",
       "      <th>0</th>\n",
       "      <td>ID</td>\n",
       "      <td>LIMIT_BAL</td>\n",
       "      <td>SEX</td>\n",
       "      <td>EDUCATION</td>\n",
       "      <td>MARRIAGE</td>\n",
       "      <td>AGE</td>\n",
       "      <td>PAY_0</td>\n",
       "      <td>PAY_2</td>\n",
       "      <td>PAY_3</td>\n",
       "      <td>PAY_4</td>\n",
       "      <td>...</td>\n",
       "      <td>BILL_AMT4</td>\n",
       "      <td>BILL_AMT5</td>\n",
       "      <td>BILL_AMT6</td>\n",
       "      <td>PAY_AMT1</td>\n",
       "      <td>PAY_AMT2</td>\n",
       "      <td>PAY_AMT3</td>\n",
       "      <td>PAY_AMT4</td>\n",
       "      <td>PAY_AMT5</td>\n",
       "      <td>PAY_AMT6</td>\n",
       "      <td>default payment next month</td>\n",
       "    </tr>\n",
       "    <tr>\n",
       "      <th>1</th>\n",
       "      <td>1</td>\n",
       "      <td>20000</td>\n",
       "      <td>2</td>\n",
       "      <td>2</td>\n",
       "      <td>1</td>\n",
       "      <td>24</td>\n",
       "      <td>2</td>\n",
       "      <td>2</td>\n",
       "      <td>-1</td>\n",
       "      <td>-1</td>\n",
       "      <td>...</td>\n",
       "      <td>0</td>\n",
       "      <td>0</td>\n",
       "      <td>0</td>\n",
       "      <td>0</td>\n",
       "      <td>689</td>\n",
       "      <td>0</td>\n",
       "      <td>0</td>\n",
       "      <td>0</td>\n",
       "      <td>0</td>\n",
       "      <td>1</td>\n",
       "    </tr>\n",
       "    <tr>\n",
       "      <th>2</th>\n",
       "      <td>2</td>\n",
       "      <td>120000</td>\n",
       "      <td>2</td>\n",
       "      <td>2</td>\n",
       "      <td>2</td>\n",
       "      <td>26</td>\n",
       "      <td>-1</td>\n",
       "      <td>2</td>\n",
       "      <td>0</td>\n",
       "      <td>0</td>\n",
       "      <td>...</td>\n",
       "      <td>3272</td>\n",
       "      <td>3455</td>\n",
       "      <td>3261</td>\n",
       "      <td>0</td>\n",
       "      <td>1000</td>\n",
       "      <td>1000</td>\n",
       "      <td>1000</td>\n",
       "      <td>0</td>\n",
       "      <td>2000</td>\n",
       "      <td>1</td>\n",
       "    </tr>\n",
       "    <tr>\n",
       "      <th>3</th>\n",
       "      <td>3</td>\n",
       "      <td>90000</td>\n",
       "      <td>2</td>\n",
       "      <td>2</td>\n",
       "      <td>2</td>\n",
       "      <td>34</td>\n",
       "      <td>0</td>\n",
       "      <td>0</td>\n",
       "      <td>0</td>\n",
       "      <td>0</td>\n",
       "      <td>...</td>\n",
       "      <td>14331</td>\n",
       "      <td>14948</td>\n",
       "      <td>15549</td>\n",
       "      <td>1518</td>\n",
       "      <td>1500</td>\n",
       "      <td>1000</td>\n",
       "      <td>1000</td>\n",
       "      <td>1000</td>\n",
       "      <td>5000</td>\n",
       "      <td>0</td>\n",
       "    </tr>\n",
       "    <tr>\n",
       "      <th>4</th>\n",
       "      <td>4</td>\n",
       "      <td>50000</td>\n",
       "      <td>2</td>\n",
       "      <td>2</td>\n",
       "      <td>1</td>\n",
       "      <td>37</td>\n",
       "      <td>0</td>\n",
       "      <td>0</td>\n",
       "      <td>0</td>\n",
       "      <td>0</td>\n",
       "      <td>...</td>\n",
       "      <td>28314</td>\n",
       "      <td>28959</td>\n",
       "      <td>29547</td>\n",
       "      <td>2000</td>\n",
       "      <td>2019</td>\n",
       "      <td>1200</td>\n",
       "      <td>1100</td>\n",
       "      <td>1069</td>\n",
       "      <td>1000</td>\n",
       "      <td>0</td>\n",
       "    </tr>\n",
       "  </tbody>\n",
       "</table>\n",
       "<p>5 rows × 25 columns</p>\n",
       "</div>"
      ],
      "text/plain": [
       "  Unnamed: 0         X1   X2         X3        X4   X5     X6     X7     X8  \\\n",
       "0         ID  LIMIT_BAL  SEX  EDUCATION  MARRIAGE  AGE  PAY_0  PAY_2  PAY_3   \n",
       "1          1      20000    2          2         1   24      2      2     -1   \n",
       "2          2     120000    2          2         2   26     -1      2      0   \n",
       "3          3      90000    2          2         2   34      0      0      0   \n",
       "4          4      50000    2          2         1   37      0      0      0   \n",
       "\n",
       "      X9             ...                    X15        X16        X17  \\\n",
       "0  PAY_4             ...              BILL_AMT4  BILL_AMT5  BILL_AMT6   \n",
       "1     -1             ...                      0          0          0   \n",
       "2      0             ...                   3272       3455       3261   \n",
       "3      0             ...                  14331      14948      15549   \n",
       "4      0             ...                  28314      28959      29547   \n",
       "\n",
       "        X18       X19       X20       X21       X22       X23  \\\n",
       "0  PAY_AMT1  PAY_AMT2  PAY_AMT3  PAY_AMT4  PAY_AMT5  PAY_AMT6   \n",
       "1         0       689         0         0         0         0   \n",
       "2         0      1000      1000      1000         0      2000   \n",
       "3      1518      1500      1000      1000      1000      5000   \n",
       "4      2000      2019      1200      1100      1069      1000   \n",
       "\n",
       "                            Y  \n",
       "0  default payment next month  \n",
       "1                           1  \n",
       "2                           1  \n",
       "3                           0  \n",
       "4                           0  \n",
       "\n",
       "[5 rows x 25 columns]"
      ]
     },
     "execution_count": 34,
     "metadata": {},
     "output_type": "execute_result"
    }
   ],
   "source": [
    "csv_path = os.path.join('Data_Feature_Names.csv')\n",
    "cc_df = pd.read_csv(csv_path)\n",
    "cc_df.head()"
   ]
  },
  {
   "cell_type": "code",
   "execution_count": 40,
   "metadata": {
    "collapsed": true
   },
   "outputs": [],
   "source": [
    "df = pd.read_excel('Data_Feature_Names.xls', header=1)"
   ]
  },
  {
   "cell_type": "code",
   "execution_count": 50,
   "metadata": {},
   "outputs": [
    {
     "data": {
      "text/plain": [
       "Index(['limit_bal', 'sex', 'education', 'marriage', 'age', 'pay_1', 'pay_2',\n",
       "       'pay_3', 'pay_4', 'pay_5', 'pay_6', 'bill_amt1', 'bill_amt2',\n",
       "       'bill_amt3', 'bill_amt4', 'bill_amt5', 'bill_amt6', 'pay_amt1',\n",
       "       'pay_amt2', 'pay_amt3', 'pay_amt4', 'pay_amt5', 'pay_amt6',\n",
       "       'default payment next month', 'target'],\n",
       "      dtype='object')"
      ]
     },
     "execution_count": 50,
     "metadata": {},
     "output_type": "execute_result"
    }
   ],
   "source": [
    "df.columns = [x.lower() for x in df.columns]\n",
    "df = df.rename(index=str, columns={\"pay_0\": \"pay_1\"})\n",
    "df = df.drop('id', axis=1)\n",
    "df.columns"
   ]
  },
  {
   "cell_type": "code",
   "execution_count": 51,
   "metadata": {},
   "outputs": [
    {
     "name": "stdout",
     "output_type": "stream",
     "text": [
      "Explanatory variables: 24\n",
      "Number of Observations: 30000\n",
      "Target variable:       'default payment next month' -> 'target'\n"
     ]
    }
   ],
   "source": [
    "print(\"Explanatory variables: {}\".format(len(df.columns)-1))\n",
    "print(\"Number of Observations: {}\".format(df.shape[0]))\n",
    "\n",
    "df['target'] = df['default payment next month'].astype('category')\n",
    "\n",
    "# create a 'target' column for our own convenience\n",
    "print(\"Target variable:       '{}' -> '{}'\".format('default payment next month', 'target'))"
   ]
  },
  {
   "cell_type": "markdown",
   "metadata": {},
   "source": [
    "## Attributes description"
   ]
  },
  {
   "cell_type": "raw",
   "metadata": {},
   "source": [
    "This study uses 23 variables as explanatory variables, extracted/interpreted from :\n",
    "\n",
    "   ----------------------------------------------------------------------------------------\n",
    "   Name                 Explantion        \n",
    "   -------------------- -------------------------------------------------------------------\n",
    "   limit_bal            Amount of the given credit (NT dollar): \n",
    "                        it includes both the individual consumer credit \n",
    "                        and his/her family (supplementary) credit.\n",
    "\n",
    "   sex                  Gender \n",
    "                        (1 = male; 2 = female)\n",
    "\n",
    "   education            Education\n",
    "                        (1 = graduate school; 2 = university; 3 = high school; 4 = others)\n",
    "\n",
    "   marriage             Marital status \n",
    "                        (1 = married; 2 = single; 3 = others)\n",
    "\n",
    "   age                  Age (years)\n",
    "\n",
    "   pay_1 - pay_6        History of past payment. Past monthly payment records \n",
    "                        From April to September, 2005 as follows:\n",
    "\n",
    "                        pay_1 = the repayment status in September, 2005\n",
    "                        pay_2 = the repayment status in August, 2005\n",
    "                        ...\n",
    "                        pay_6 = the repayment status in April, 2005 \n",
    "\n",
    "                        The measurement scale for the repayment status is: \n",
    "                        -1 = pay duly; \n",
    "                        1 = payment delay for one month \n",
    "                        2 = payment delay for two months\n",
    "                        ...\n",
    "                        8 = payment delay for eight months \n",
    "                        9 = payment delay for nine months and above\n",
    "\n",
    "   bill_amt1-bill_amt5  Amount of bill statement (NT dollar). \n",
    "                        bill_amt1 = amount of bill statement in September, 2005 \n",
    "                        bill_amt2 = amount of bill statement in August, 2005\n",
    "                        ...\n",
    "                        bill_amt6= amount of bill statement in April, 2005 \n",
    "\n",
    "   pay_amt1-pay_amt6    Amount of previous payment (NT dollar)\n",
    "                        pay_amt1 = amount paid in September, 2005\n",
    "                        pay_amt2 = amount paid in August, 2005\n",
    "                        ...\n",
    "                        pay_amt6 = amount paid in April, 2005 \n",
    "   ----------------------------------------------------------------------------------------"
   ]
  },
  {
   "cell_type": "code",
   "execution_count": 52,
   "metadata": {},
   "outputs": [
    {
     "name": "stdout",
     "output_type": "stream",
     "text": [
      "defaulting accounts are 22.12% out of 30000 observations\n"
     ]
    },
    {
     "data": {
      "image/png": "[encoded data removed]",
      "text/plain": [
       "<matplotlib.figure.Figure at 0x10d97f0b8>"
      ]
     },
     "metadata": {},
     "output_type": "display_data"
    }
   ],
   "source": [
    "fig = plt.figure()\n",
    "fig.set_size_inches(5,5)\n",
    "d = df.groupby(['target']).size()\n",
    "\n",
    "print(\"defaulting accounts are {}% out of {} observations\".format(100* d[1]/(d[1]+d[0]), d[1]+d[0]))\n",
    "p = d.plot(kind='barh', color='orange')"
   ]
  },
  {
   "cell_type": "code",
   "execution_count": 54,
   "metadata": {
    "collapsed": true
   },
   "outputs": [],
   "source": [
    "df['sex'] = df['sex'].astype('category').cat.rename_categories(['M', 'F'])\n",
    "df['marriage'] = df['marriage'].astype('category').cat.rename_categories(['na', 'married', 'single', 'other'])"
   ]
  },
  {
   "cell_type": "code",
   "execution_count": 55,
   "metadata": {
    "collapsed": true
   },
   "outputs": [],
   "source": [
    "df['age_cat'] = pd.cut(df['age'], range(0, 100, 10), right=False)"
   ]
  },
  {
   "cell_type": "markdown",
   "metadata": {},
   "source": [
    "### Absolute statistics"
   ]
  },
  {
   "cell_type": "code",
   "execution_count": 56,
   "metadata": {},
   "outputs": [
    {
     "data": {
      "image/png": "[encoded data removed]",
      "text/plain": [
       "<matplotlib.figure.Figure at 0x1117a5ba8>"
      ]
     },
     "metadata": {},
     "output_type": "display_data"
    }
   ],
   "source": [
    "fig, ax = plt.subplots(1,3)\n",
    "fig.set_size_inches(20,5)\n",
    "fig.suptitle('Defaulting by absolute numbers, for various demographics')\n",
    "\n",
    "d = df.groupby(['target', 'sex']).size()\n",
    "p = d.unstack(level=1).plot(kind='bar', ax=ax[0])\n",
    "\n",
    "d = df.groupby(['target', 'marriage']).size()\n",
    "p = d.unstack(level=1).plot(kind='bar', ax=ax[1])\n",
    "\n",
    "d = df.groupby(['target', 'age_cat']).size()\n",
    "p = d.unstack(level=1).plot(kind='bar', ax=ax[2])"
   ]
  },
  {
   "cell_type": "markdown",
   "metadata": {},
   "source": [
    "### Statistics Relative to the Population"
   ]
  },
  {
   "cell_type": "code",
   "execution_count": 57,
   "metadata": {},
   "outputs": [
    {
     "data": {
      "image/png": "[encoded data removed]",
      "text/plain": [
       "<matplotlib.figure.Figure at 0x111590da0>"
      ]
     },
     "metadata": {},
     "output_type": "display_data"
    }
   ],
   "source": [
    "fig, ax = plt.subplots(1,3)\n",
    "fig.set_size_inches(20,5)\n",
    "fig.suptitle('Defaulting by relative numbers given each class, for various demographics')\n",
    "\n",
    "d = df.groupby(['target', 'sex']).size().unstack(level=1)\n",
    "d = d / d.sum()\n",
    "p = d.plot(kind='bar', ax=ax[0])\n",
    "\n",
    "d = df.groupby(['target', 'marriage']).size().unstack(level=1)\n",
    "d = d / d.sum()\n",
    "p = d.plot(kind='bar', ax=ax[1])\n",
    "\n",
    "d = df.groupby(['target', 'age_cat']).size().unstack(level=1)\n",
    "d = d / d.sum()\n",
    "p = d.plot(kind='bar', ax=ax[2])"
   ]
  },
  {
   "cell_type": "markdown",
   "metadata": {},
   "source": [
    "### Feature Engineering"
   ]
  },
  {
   "cell_type": "markdown",
   "metadata": {},
   "source": [
    "#### It's not about blind feature conversion to values between 0 and 1, it's about understanding data. In this case we see that payment they exibits a log/log distribution, so first off, we are going to take the log of the payments."
   ]
  },
  {
   "cell_type": "code",
   "execution_count": 58,
   "metadata": {
    "collapsed": true
   },
   "outputs": [],
   "source": [
    "# help func\n",
    "def selcols(prefix, a=1, b=6):\n",
    "    return [prefix+str(i) for i in np.arange(a,b+1)]"
   ]
  },
  {
   "cell_type": "code",
   "execution_count": 59,
   "metadata": {
    "collapsed": true
   },
   "outputs": [],
   "source": [
    "from math import log\n",
    "\n",
    "# average and standard deviation payment status\n",
    "df['pay_avg'] = df[selcols('pay_')].mean(axis=1)\n",
    "df['pay_std'] = df[selcols('pay_')].std(axis=1)"
   ]
  },
  {
   "cell_type": "code",
   "execution_count": 60,
   "metadata": {
    "collapsed": true
   },
   "outputs": [],
   "source": [
    "# average payment# averag \n",
    "df['pay_amt_avg']     = df[selcols('pay_amt')].mean(axis=1)\n",
    "\n",
    "# log of average\n",
    "df['pay_amt_avg_log'] = df['pay_amt_avg'].apply(lambda x: log(x+1))\n",
    "\n",
    "#amounts relative to the average payment\n",
    "for i in np.arange(1,7):\n",
    "    df['pay_relamt'+str(i)] = df['pay_amt'+str(i)]/df['pay_amt_avg']\n",
    "\n",
    "# log of payments\n",
    "for i in np.arange(1,7):\n",
    "    df['pay_amt_log'+str(i)] = df['pay_amt'+str(i)].apply(lambda x: log(x+1))"
   ]
  },
  {
   "cell_type": "code",
   "execution_count": 61,
   "metadata": {
    "collapsed": true
   },
   "outputs": [],
   "source": [
    "# average bill\n",
    "df['bill_amt_avg'] = df[selcols('bill_amt')].mean(axis=1)\n",
    "df['bill_amt_avg_log'] = df['bill_amt_avg'].apply(lambda x: log(x+1) if x>0 else 0)\n",
    "\n",
    "# bill sign as a separate feature\n",
    "for i in np.arange(1,7):\n",
    "    df['bill_amt_sign'+str(i)] = df['bill_amt'+str(i)].apply(lambda x: float(x>0))\n",
    "    \n",
    "# bill log as a separate feature (0 if bill is negative)\n",
    "for i in np.arange(1,7):\n",
    "    df['bill_amt_log'+str(i)] = df['bill_amt'+str(i)].apply(lambda x: log(x+1) if x>0 else 0)\n",
    "    \n",
    "#bill amounts relative to the limit\n",
    "for i in np.arange(1,7):\n",
    "    df['bill_relamt'+str(i)] = df['bill_amt'+str(i)]/df['limit_bal']"
   ]
  },
  {
   "cell_type": "code",
   "execution_count": 62,
   "metadata": {
    "collapsed": true
   },
   "outputs": [],
   "source": [
    "#log of credit limit\n",
    "df['limit_bal_log'] = df['limit_bal'].apply(lambda x: log(x+1))\n",
    "df['limit_bal_cat'] = pd.cut(df['limit_bal'], range(0, int(1e6), 10000), right=False)"
   ]
  },
  {
   "cell_type": "code",
   "execution_count": 64,
   "metadata": {},
   "outputs": [
    {
     "data": {
      "image/png": "[encoded data removed]",
      "text/plain": [
       "<matplotlib.figure.Figure at 0x1117d0fd0>"
      ]
     },
     "metadata": {},
     "output_type": "display_data"
    }
   ],
   "source": [
    "import re\n",
    "\n",
    "from sklearn.neighbors.kde import KernelDensity\n",
    "\n",
    "pattern = re.compile(\"^bill_relamt[0-9]+$\")\n",
    "columns = [ x for x in df.columns if (pattern.match(x))]\n",
    "\n",
    "fig, ax = plt.subplots(2,3)\n",
    "fig.set_size_inches(15,5)\n",
    "fig.suptitle('Distribution of bill relative to credit in the path 6 months')\n",
    "\n",
    "for i in range(len(columns)):\n",
    "    row,col = int(i/3), i%3\n",
    "\n",
    "    d = df[columns[i]]\n",
    "    # the histogram of the data\n",
    "    n, bins, patches = ax[row,col].hist(d, 50, normed=1, facecolor='green', alpha=0.75)\n",
    "\n",
    "    # kernel density estimation\n",
    "    kde = KernelDensity(kernel='gaussian', bandwidth=0.2).fit(d.values.reshape(-1, 1))\n",
    "    x_grid = np.linspace(d.min(), d.max(), 1000)\n",
    "    log_pdf = kde.score_samples(x_grid.reshape(-1, 1))\n",
    "\n",
    "    # add the density line\n",
    "    ax[row,col].plot(x_grid, np.exp(log_pdf), color='blue', alpha=0.5, lw=3)\n",
    "    ax[row,col].set_title(columns[i])\n",
    "\n",
    "plt.tight_layout(pad=3.0, w_pad=0.5, h_pad=1.0)\n",
    "plt.show()"
   ]
  },
  {
   "cell_type": "markdown",
   "metadata": {},
   "source": [
    "### Intuition: If the credit limit is much larger than the bill, being behind might not be a problem. Therefore this contructed feature might turn-up useful when predicting defaulting."
   ]
  },
  {
   "cell_type": "code",
   "execution_count": 67,
   "metadata": {},
   "outputs": [
    {
     "data": {
      "image/png": "[encoded data removed]",
      "text/plain": [
       "<matplotlib.figure.Figure at 0x108091c50>"
      ]
     },
     "metadata": {},
     "output_type": "display_data"
    }
   ],
   "source": [
    "def_no = df[df['target']==0].sample(1500)\n",
    "def_yes  = df[df['target']==1].sample(1500)\n",
    "\n",
    "fig,ax = plt.subplots(2,2)\n",
    "fig.set_size_inches(15,10)\n",
    "\n",
    "ax[0,0].set_ylim([1,1e6])\n",
    "ax[0,0].set_title('defaulting')\n",
    "ax[0,0].set_ylabel('average payment')\n",
    "ax[0,0].set_xlabel('average payment delay in months')\n",
    "p = ax[0,0].semilogy(def_yes['pay_avg'], def_yes['pay_amt_avg'], 'ro', markersize=5, alpha=0.1)\n",
    "\n",
    "ax[0,1].set_ylim([1,1e6])\n",
    "ax[0,1].set_title('not defaulting')\n",
    "ax[0,1].set_ylabel('average payment')\n",
    "ax[0,1].set_xlabel('average payment delay in months')\n",
    "p = ax[0,1].semilogy(def_no['pay_avg'], def_no['pay_amt_avg'], 'bo', markersize=5, alpha=0.1)\n",
    "\n",
    "ax[1,0].set_ylim([1,1e6])\n",
    "ax[1,0].set_title('defaulting')\n",
    "ax[1,0].set_ylabel('average bill amount')\n",
    "ax[1,0].set_xlabel('average payment delay in months')\n",
    "p = ax[1,0].semilogy(def_yes['pay_avg'], def_yes['bill_amt_avg'], 'ro', markersize=5, alpha=0.1)\n",
    "\n",
    "ax[1,1].set_ylim([1,1e6])\n",
    "ax[1,1].set_title('not defaulting')\n",
    "ax[1,1].set_ylabel('average bill amount')\n",
    "ax[1,1].set_xlabel('average payment delay in months')\n",
    "p = ax[1,1].semilogy(def_no['pay_avg'], def_no['bill_amt_avg'], 'bo', markersize=5, alpha=0.1)\n",
    "\n",
    "plt.tight_layout(pad=0.4, w_pad=0.5, h_pad=1.0)\n",
    "plt.show()"
   ]
  },
  {
   "cell_type": "markdown",
   "metadata": {},
   "source": [
    "### From variables to train, test matrices"
   ]
  },
  {
   "cell_type": "code",
   "execution_count": 72,
   "metadata": {},
   "outputs": [],
   "source": [
    "from patsy import dmatrices\n",
    "\n",
    "formula  = 'target ~ '\n",
    "\n",
    "# original features\n",
    "formula += 'C(sex) + C(marriage) +  C(education) + age'\n",
    "formula += '+' + '+'.join(selcols('pay_'))\n",
    "\n",
    "#### engineered / normalized features\n",
    "\n",
    "# categorical age and credit limit (binned)\n",
    "formula += '+' + 'C(age_cat)'\n",
    "formula += '+' + 'C(limit_bal_cat) + limit_bal_log'\n",
    "\n",
    "#pay delays\n",
    "formula += '+' + 'pay_avg + pay_std'\n",
    "    \n",
    "#pay_amt\n",
    "formula += '+' + 'pay_amt_avg_log'\n",
    "formula += '+' + '+'.join(selcols('pay_relamt'))\n",
    "formula += '+' + '+'.join(selcols('pay_amt_log'))\n",
    "\n",
    "# bill amounts\n",
    "formula += '+' + 'bill_amt_avg_log'\n",
    "formula += '+' + '+'.join(selcols('bill_relamt'))\n",
    "formula += '+' + '+'.join(selcols('bill_amt_sign'))\n",
    "formula += '+' + '+'.join(selcols('bill_amt_log'))\n",
    "\n",
    "y, X = dmatrices(formula, data=df, return_type='dataframe')\n",
    "y = y.iloc[:, 1]"
   ]
  },
  {
   "cell_type": "markdown",
   "metadata": {},
   "source": [
    "### Visualization: Confusion matrices and AUC curves"
   ]
  },
  {
   "cell_type": "code",
   "execution_count": 74,
   "metadata": {},
   "outputs": [],
   "source": [
    "import itertools\n",
    "from sklearn.metrics import roc_curve, auc, roc_auc_score, log_loss, accuracy_score, confusion_matrix\n",
    "\n",
    "def plot_cm(ax, y_true, y_pred, classes, title, th=0.5, cmap=plt.cm.Blues):\n",
    "    y_pred_labels = (y_pred>th).astype(int)\n",
    "    \n",
    "    cm = confusion_matrix(y_true, y_pred_labels)\n",
    "    \n",
    "    im = ax.imshow(cm, interpolation='nearest', cmap=cmap)\n",
    "    ax.set_title(title)\n",
    "\n",
    "    tick_marks = np.arange(len(classes))\n",
    "    ax.set_xticks(tick_marks)\n",
    "    ax.set_yticks(tick_marks)\n",
    "    ax.set_xticklabels(classes)\n",
    "    ax.set_yticklabels(classes)\n",
    "\n",
    "    thresh = cm.max() / 2.\n",
    "    for i, j in itertools.product(range(cm.shape[0]), range(cm.shape[1])):\n",
    "        ax.text(j, i, cm[i, j],\n",
    "                 horizontalalignment=\"center\",\n",
    "                 color=\"white\" if cm[i, j] > thresh else \"black\")\n",
    "    ax.set_ylabel('True label')\n",
    "    ax.set_xlabel('Predicted label')\n",
    "\n",
    "def plot_auc(ax, y_train, y_train_pred, y_test, y_test_pred, th=0.5):\n",
    "\n",
    "    y_train_pred_labels = (y_train_pred>th).astype(int)\n",
    "    y_test_pred_labels  = (y_test_pred>th).astype(int)\n",
    "\n",
    "    fpr_train, tpr_train, _ = roc_curve(y_train,y_train_pred)\n",
    "    roc_auc_train = auc(fpr_train, tpr_train)\n",
    "    acc_train = accuracy_score(y_train, y_train_pred_labels)\n",
    "\n",
    "    fpr_test, tpr_test, _ = roc_curve(y_test,y_test_pred)\n",
    "    roc_auc_test = auc(fpr_test, tpr_test)\n",
    "    acc_test = accuracy_score(y_test, y_test_pred_labels)\n",
    "\n",
    "    ax.plot(fpr_train, tpr_train)\n",
    "    ax.plot(fpr_test, tpr_test)\n",
    "\n",
    "    ax.plot([0, 1], [0, 1], 'k--')\n",
    "\n",
    "    ax.set_xlim([0.0, 1.0])\n",
    "    ax.set_ylim([0.0, 1.05])\n",
    "    ax.set_xlabel('False Positive Rate')\n",
    "    ax.set_ylabel('True Positive Rate')\n",
    "    ax.set_title('ROC curve')\n",
    "    \n",
    "    train_text = 'train acc = {:.3f}, auc = {:.2f}'.format(acc_train, roc_auc_train)\n",
    "    test_text = 'test acc = {:.3f}, auc = {:.2f}'.format(acc_test, roc_auc_test)\n",
    "    ax.legend([train_text, test_text])"
   ]
  },
  {
   "cell_type": "markdown",
   "metadata": {},
   "source": [
    "### Feature Selection"
   ]
  },
  {
   "cell_type": "code",
   "execution_count": 88,
   "metadata": {},
   "outputs": [
    {
     "data": {
      "text/plain": [
       "SelectKBest(k=23, score_func=<function f_classif at 0x110b5e1e0>)"
      ]
     },
     "execution_count": 88,
     "metadata": {},
     "output_type": "execute_result"
    }
   ],
   "source": [
    "import warnings\n",
    "warnings.filterwarnings('ignore')\n",
    "\n",
    "from sklearn.feature_selection import SelectKBest, f_classif\n",
    "\n",
    "warnings.simplefilter(action='ignore', category=(UserWarning,RuntimeWarning))\n",
    "\n",
    "selector = SelectKBest(f_classif, 23)\n",
    "selector.fit(X, y)"
   ]
  },
  {
   "cell_type": "code",
   "execution_count": 76,
   "metadata": {},
   "outputs": [
    {
     "data": {
      "text/plain": [
       "Index(['pay_1', 'pay_avg', 'pay_2', 'pay_3', 'pay_std', 'pay_4', 'pay_5',\n",
       "       'pay_6', 'limit_bal_log', 'pay_amt_log1', 'pay_amt_avg_log',\n",
       "       'bill_relamt6', 'bill_relamt5', 'bill_relamt4', 'pay_amt_log2',\n",
       "       'bill_relamt3', 'bill_relamt2', 'pay_amt_log3', 'bill_relamt1',\n",
       "       'pay_amt_log4', 'pay_amt_log6', 'pay_amt_log5',\n",
       "       'C(limit_bal_cat)[T.Interval(20000, 30000, closed='left')]'],\n",
       "      dtype='object')"
      ]
     },
     "execution_count": 76,
     "metadata": {},
     "output_type": "execute_result"
    }
   ],
   "source": [
    "top_indices = np.nan_to_num(selector.scores_).argsort()[-23:][::-1]\n",
    "selector.scores_[top_indices]\n",
    "X.columns[top_indices]"
   ]
  },
  {
   "cell_type": "markdown",
   "metadata": {},
   "source": [
    "### Feature Scaling"
   ]
  },
  {
   "cell_type": "code",
   "execution_count": 89,
   "metadata": {},
   "outputs": [
    {
     "data": {
      "text/plain": [
       "MinMaxScaler(copy=True, feature_range=(0, 1))"
      ]
     },
     "execution_count": 89,
     "metadata": {},
     "output_type": "execute_result"
    }
   ],
   "source": [
    "from sklearn import preprocessing\n",
    "\n",
    "scaler = preprocessing.MinMaxScaler()\n",
    "scaler.fit(X)"
   ]
  },
  {
   "cell_type": "code",
   "execution_count": 90,
   "metadata": {},
   "outputs": [],
   "source": [
    "from sklearn.pipeline import Pipeline\n",
    "\n",
    "preprocess = Pipeline([('anova', selector), ('scale', scaler)])\n",
    "preprocess.fit(X,y)\n",
    "\n",
    "X_prep = preprocess.transform(X)"
   ]
  },
  {
   "cell_type": "markdown",
   "metadata": {},
   "source": [
    "### Model Selection and Validation"
   ]
  },
  {
   "cell_type": "code",
   "execution_count": 79,
   "metadata": {
    "collapsed": true
   },
   "outputs": [],
   "source": [
    "from sklearn.model_selection import train_test_split\n",
    "\n",
    "X_train, X_test, y_train, y_test = train_test_split(X_prep, y, test_size=0.2, random_state=42)"
   ]
  },
  {
   "cell_type": "code",
   "execution_count": 81,
   "metadata": {},
   "outputs": [
    {
     "data": {
      "text/plain": [
       "LogisticRegression(C=1.0, class_weight=None, dual=False, fit_intercept=True,\n",
       "          intercept_scaling=1, max_iter=100, multi_class='ovr', n_jobs=1,\n",
       "          penalty='l2', random_state=None, solver='liblinear', tol=0.0001,\n",
       "          verbose=0, warm_start=False)"
      ]
     },
     "execution_count": 81,
     "metadata": {},
     "output_type": "execute_result"
    }
   ],
   "source": [
    "from  sklearn import linear_model\n",
    "\n",
    "# Create logistic regression object\n",
    "regr = linear_model.LogisticRegression()\n",
    "\n",
    "# Train the model using the training sets\n",
    "regr.fit(X_train, y_train)"
   ]
  },
  {
   "cell_type": "code",
   "execution_count": 117,
   "metadata": {},
   "outputs": [
    {
     "data": {
      "image/png": "[encoded data removed]",
      "text/plain": [
       "<matplotlib.figure.Figure at 0x1a19e04c18>"
      ]
     },
     "metadata": {},
     "output_type": "display_data"
    }
   ],
   "source": [
    "y_train_pred = regr.predict_proba(X_train)[:,1]\n",
    "y_real_pred = regr.predict_proba(X_Real)[:,1]\n",
    "\n",
    "threshold = 0.5\n",
    "\n",
    "fig,ax = plt.subplots(1,3)\n",
    "fig.set_size_inches(15,5)\n",
    "\n",
    "plot_cm(ax[0],  y_train, y_train_pred, [0,1], 'Confusion matrix (TRAIN)', threshold)\n",
    "plot_cm(ax[1],  y_Real, y_real_pred,   [0,1], 'Confusion matrix (REAL)', threshold)\n",
    "plot_auc(ax[2], y_train, y_train_pred, y_Real, y_real_pred, threshold)\n",
    "    \n",
    "plt.tight_layout()\n",
    "plt.show()"
   ]
  },
  {
   "cell_type": "code",
   "execution_count": 120,
   "metadata": {},
   "outputs": [
    {
     "data": {
      "text/plain": [
       "DecisionTreeClassifier(class_weight=None, criterion='entropy', max_depth=None,\n",
       "            max_features=None, max_leaf_nodes=None,\n",
       "            min_impurity_decrease=0.0, min_impurity_split=None,\n",
       "            min_samples_leaf=1, min_samples_split=2,\n",
       "            min_weight_fraction_leaf=0.0, presort=False, random_state=None,\n",
       "            splitter='best')"
      ]
     },
     "execution_count": 120,
     "metadata": {},
     "output_type": "execute_result"
    }
   ],
   "source": [
    "from sklearn.tree import DecisionTreeClassifier\n",
    "dtree = DecisionTreeClassifier(criterion='entropy')\n",
    "dtree.fit(X_train, y_train)"
   ]
  },
  {
   "cell_type": "code",
   "execution_count": 121,
   "metadata": {},
   "outputs": [
    {
     "data": {
      "image/png": "[encoded data removed]",
      "text/plain": [
       "<matplotlib.figure.Figure at 0x1a1a042400>"
      ]
     },
     "metadata": {},
     "output_type": "display_data"
    }
   ],
   "source": [
    "y_train_pred = dtree.predict_proba(X_train)[:,1]\n",
    "y_real_pred = dtree.predict_proba(X_Real)[:,1]\n",
    "\n",
    "threshold = 0.5\n",
    "\n",
    "fig,ax = plt.subplots(1,3)\n",
    "fig.set_size_inches(15,5)\n",
    "\n",
    "plot_cm(ax[0],  y_train, y_train_pred, [0,1], 'Confusion matrix (TRAIN)', threshold)\n",
    "plot_cm(ax[1],  y_Real, y_real_pred,   [0,1], 'Confusion matrix (REAL)', threshold)\n",
    "plot_auc(ax[2], y_train, y_train_pred, y_Real, y_real_pred, threshold)\n",
    "    \n",
    "plt.tight_layout()\n",
    "plt.show()"
   ]
  },
  {
   "cell_type": "markdown",
   "metadata": {},
   "source": [
    "## SVM"
   ]
  },
  {
   "cell_type": "code",
   "execution_count": 83,
   "metadata": {},
   "outputs": [
    {
     "data": {
      "text/plain": [
       "SVC(C=1.0, cache_size=200, class_weight=None, coef0=0.0,\n",
       "  decision_function_shape='ovr', degree=3, gamma='auto', kernel='linear',\n",
       "  max_iter=-1, probability=False, random_state=None, shrinking=True,\n",
       "  tol=0.001, verbose=False)"
      ]
     },
     "execution_count": 83,
     "metadata": {},
     "output_type": "execute_result"
    }
   ],
   "source": [
    "from sklearn.svm import SVC \n",
    "\n",
    "model = SVC(kernel='linear')\n",
    "model.fit(X_train, y_train)"
   ]
  },
  {
   "cell_type": "code",
   "execution_count": null,
   "metadata": {
    "collapsed": true
   },
   "outputs": [],
   "source": []
  },
  {
   "cell_type": "code",
   "execution_count": null,
   "metadata": {
    "collapsed": true
   },
   "outputs": [],
   "source": []
  },
  {
   "cell_type": "code",
   "execution_count": 3,
   "metadata": {
    "collapsed": true
   },
   "outputs": [],
   "source": [
    "cc_df = cc_df.drop([0])"
   ]
  },
  {
   "cell_type": "code",
   "execution_count": 4,
   "metadata": {},
   "outputs": [
    {
     "data": {
      "text/plain": [
       "30000"
      ]
     },
     "execution_count": 4,
     "metadata": {},
     "output_type": "execute_result"
    }
   ],
   "source": [
    "len(cc_df)"
   ]
  },
  {
   "cell_type": "code",
   "execution_count": 5,
   "metadata": {},
   "outputs": [
    {
     "data": {
      "text/plain": [
       "Unnamed: 0    0\n",
       "X1            0\n",
       "X2            0\n",
       "X3            0\n",
       "X4            0\n",
       "X5            0\n",
       "X6            0\n",
       "X7            0\n",
       "X8            0\n",
       "X9            0\n",
       "X10           0\n",
       "X11           0\n",
       "X12           0\n",
       "X13           0\n",
       "X14           0\n",
       "X15           0\n",
       "X16           0\n",
       "X17           0\n",
       "X18           0\n",
       "X19           0\n",
       "X20           0\n",
       "X21           0\n",
       "X22           0\n",
       "X23           0\n",
       "Y             0\n",
       "dtype: int64"
      ]
     },
     "execution_count": 5,
     "metadata": {},
     "output_type": "execute_result"
    }
   ],
   "source": [
    "cc_df.isnull().sum()"
   ]
  },
  {
   "cell_type": "code",
   "execution_count": 6,
   "metadata": {},
   "outputs": [
    {
     "data": {
      "text/plain": [
       "array([['20000', '2', '2', ..., '0', '0', '0'],\n",
       "       ['120000', '2', '2', ..., '1000', '0', '2000'],\n",
       "       ['90000', '2', '2', ..., '1000', '1000', '5000'],\n",
       "       ...,\n",
       "       ['30000', '1', '2', ..., '4200', '2000', '3100'],\n",
       "       ['80000', '1', '3', ..., '1926', '52964', '1804'],\n",
       "       ['50000', '1', '2', ..., '1000', '1000', '1000']], dtype=object)"
      ]
     },
     "execution_count": 6,
     "metadata": {},
     "output_type": "execute_result"
    }
   ],
   "source": [
    "X = np.column_stack((cc_df.X1,cc_df.X2,cc_df.X3,cc_df.X4,cc_df.X5,cc_df.X6,cc_df.X7,cc_df.X8,cc_df.X9,cc_df.X10,cc_df.X11,cc_df.X12,cc_df.X13,cc_df.X14,cc_df.X15,cc_df.X16,cc_df.X17,cc_df.X18,cc_df.X19,cc_df.X20,cc_df.X21,cc_df.X22,cc_df.X23))\n",
    "# X = np.column_stack((cc_df.X2,cc_df.X3,cc_df.X4,cc_df.X5,cc_df.X6,cc_df.X7,cc_df.X8,cc_df.X9,cc_df.X10,cc_df.X11))\n",
    "X"
   ]
  },
  {
   "cell_type": "code",
   "execution_count": 7,
   "metadata": {},
   "outputs": [
    {
     "data": {
      "text/plain": [
       "array(['1', '1', '0', ..., '1', '1', '1'], dtype=object)"
      ]
     },
     "execution_count": 7,
     "metadata": {},
     "output_type": "execute_result"
    }
   ],
   "source": [
    "y  = np.array((cc_df.Y))\n",
    "y"
   ]
  },
  {
   "cell_type": "code",
   "execution_count": 8,
   "metadata": {
    "collapsed": true
   },
   "outputs": [],
   "source": [
    "from sklearn.model_selection import train_test_split\n",
    "\n",
    "X_train, X_test, y_train, y_test = train_test_split(X, y, random_state=1, stratify=y)"
   ]
  },
  {
   "cell_type": "markdown",
   "metadata": {},
   "source": [
    "## Logistic Regression"
   ]
  },
  {
   "cell_type": "code",
   "execution_count": 9,
   "metadata": {},
   "outputs": [
    {
     "data": {
      "text/plain": [
       "LogisticRegression(C=1.0, class_weight=None, dual=False, fit_intercept=True,\n",
       "          intercept_scaling=1, max_iter=100, multi_class='ovr', n_jobs=1,\n",
       "          penalty='l2', random_state=None, solver='liblinear', tol=0.0001,\n",
       "          verbose=0, warm_start=False)"
      ]
     },
     "execution_count": 9,
     "metadata": {},
     "output_type": "execute_result"
    }
   ],
   "source": [
    "from sklearn.linear_model import LogisticRegression\n",
    "classifier = LogisticRegression()\n",
    "classifier"
   ]
  },
  {
   "cell_type": "code",
   "execution_count": 10,
   "metadata": {},
   "outputs": [
    {
     "data": {
      "text/plain": [
       "LogisticRegression(C=1.0, class_weight=None, dual=False, fit_intercept=True,\n",
       "          intercept_scaling=1, max_iter=100, multi_class='ovr', n_jobs=1,\n",
       "          penalty='l2', random_state=None, solver='liblinear', tol=0.0001,\n",
       "          verbose=0, warm_start=False)"
      ]
     },
     "execution_count": 10,
     "metadata": {},
     "output_type": "execute_result"
    }
   ],
   "source": [
    "classifier.fit(X_train, y_train)"
   ]
  },
  {
   "cell_type": "code",
   "execution_count": 28,
   "metadata": {},
   "outputs": [
    {
     "name": "stdout",
     "output_type": "stream",
     "text": [
      "Testing Data Score: 0.7785333333333333\n"
     ]
    }
   ],
   "source": [
    "print(f\"Testing Data Score: {classifier.score(X_test, y_test)}\")"
   ]
  },
  {
   "cell_type": "markdown",
   "metadata": {},
   "source": [
    "## 'Logistic Regression' Predictions with Real Data"
   ]
  },
  {
   "cell_type": "code",
   "execution_count": 111,
   "metadata": {},
   "outputs": [
    {
     "data": {
      "text/html": [
       "<div>\n",
       "<style>\n",
       "    .dataframe thead tr:only-child th {\n",
       "        text-align: right;\n",
       "    }\n",
       "\n",
       "    .dataframe thead th {\n",
       "        text-align: left;\n",
       "    }\n",
       "\n",
       "    .dataframe tbody tr th {\n",
       "        vertical-align: top;\n",
       "    }\n",
       "</style>\n",
       "<table border=\"1\" class=\"dataframe\">\n",
       "  <thead>\n",
       "    <tr style=\"text-align: right;\">\n",
       "      <th></th>\n",
       "      <th>X1</th>\n",
       "      <th>X2</th>\n",
       "      <th>X3</th>\n",
       "      <th>X4</th>\n",
       "      <th>X5</th>\n",
       "      <th>X6</th>\n",
       "      <th>X7</th>\n",
       "      <th>X8</th>\n",
       "      <th>X9</th>\n",
       "      <th>X10</th>\n",
       "      <th>...</th>\n",
       "      <th>X15</th>\n",
       "      <th>X16</th>\n",
       "      <th>X17</th>\n",
       "      <th>X18</th>\n",
       "      <th>X19</th>\n",
       "      <th>X20</th>\n",
       "      <th>X21</th>\n",
       "      <th>X22</th>\n",
       "      <th>X23</th>\n",
       "      <th>y</th>\n",
       "    </tr>\n",
       "  </thead>\n",
       "  <tbody>\n",
       "    <tr>\n",
       "      <th>0</th>\n",
       "      <td>5500</td>\n",
       "      <td>1</td>\n",
       "      <td>2</td>\n",
       "      <td>1</td>\n",
       "      <td>33</td>\n",
       "      <td>-1</td>\n",
       "      <td>-1</td>\n",
       "      <td>-1</td>\n",
       "      <td>-1</td>\n",
       "      <td>-1</td>\n",
       "      <td>...</td>\n",
       "      <td>482</td>\n",
       "      <td>112</td>\n",
       "      <td>252</td>\n",
       "      <td>417</td>\n",
       "      <td>570</td>\n",
       "      <td>987</td>\n",
       "      <td>482</td>\n",
       "      <td>112</td>\n",
       "      <td>252</td>\n",
       "      <td>0</td>\n",
       "    </tr>\n",
       "    <tr>\n",
       "      <th>1</th>\n",
       "      <td>10000</td>\n",
       "      <td>1</td>\n",
       "      <td>2</td>\n",
       "      <td>1</td>\n",
       "      <td>33</td>\n",
       "      <td>9</td>\n",
       "      <td>9</td>\n",
       "      <td>9</td>\n",
       "      <td>8</td>\n",
       "      <td>7</td>\n",
       "      <td>...</td>\n",
       "      <td>5000</td>\n",
       "      <td>8700</td>\n",
       "      <td>8900</td>\n",
       "      <td>800</td>\n",
       "      <td>3000</td>\n",
       "      <td>200</td>\n",
       "      <td>1000</td>\n",
       "      <td>3700</td>\n",
       "      <td>200</td>\n",
       "      <td>0</td>\n",
       "    </tr>\n",
       "    <tr>\n",
       "      <th>2</th>\n",
       "      <td>5400</td>\n",
       "      <td>1</td>\n",
       "      <td>2</td>\n",
       "      <td>1</td>\n",
       "      <td>33</td>\n",
       "      <td>8</td>\n",
       "      <td>7</td>\n",
       "      <td>6</td>\n",
       "      <td>5</td>\n",
       "      <td>4</td>\n",
       "      <td>...</td>\n",
       "      <td>4382</td>\n",
       "      <td>3792</td>\n",
       "      <td>3367</td>\n",
       "      <td>2000</td>\n",
       "      <td>200</td>\n",
       "      <td>200</td>\n",
       "      <td>200</td>\n",
       "      <td>100</td>\n",
       "      <td>100</td>\n",
       "      <td>0</td>\n",
       "    </tr>\n",
       "    <tr>\n",
       "      <th>3</th>\n",
       "      <td>15000</td>\n",
       "      <td>1</td>\n",
       "      <td>2</td>\n",
       "      <td>1</td>\n",
       "      <td>32</td>\n",
       "      <td>9</td>\n",
       "      <td>9</td>\n",
       "      <td>8</td>\n",
       "      <td>7</td>\n",
       "      <td>6</td>\n",
       "      <td>...</td>\n",
       "      <td>2759</td>\n",
       "      <td>2900</td>\n",
       "      <td>3100</td>\n",
       "      <td>1800</td>\n",
       "      <td>700</td>\n",
       "      <td>100</td>\n",
       "      <td>159</td>\n",
       "      <td>500</td>\n",
       "      <td>200</td>\n",
       "      <td>0</td>\n",
       "    </tr>\n",
       "    <tr>\n",
       "      <th>4</th>\n",
       "      <td>2050</td>\n",
       "      <td>1</td>\n",
       "      <td>2</td>\n",
       "      <td>1</td>\n",
       "      <td>31</td>\n",
       "      <td>-1</td>\n",
       "      <td>-1</td>\n",
       "      <td>-1</td>\n",
       "      <td>-1</td>\n",
       "      <td>-1</td>\n",
       "      <td>...</td>\n",
       "      <td>294</td>\n",
       "      <td>14</td>\n",
       "      <td>88</td>\n",
       "      <td>132</td>\n",
       "      <td>126</td>\n",
       "      <td>352</td>\n",
       "      <td>294</td>\n",
       "      <td>14</td>\n",
       "      <td>88</td>\n",
       "      <td>1</td>\n",
       "    </tr>\n",
       "    <tr>\n",
       "      <th>5</th>\n",
       "      <td>7500</td>\n",
       "      <td>1</td>\n",
       "      <td>2</td>\n",
       "      <td>1</td>\n",
       "      <td>31</td>\n",
       "      <td>-1</td>\n",
       "      <td>7</td>\n",
       "      <td>6</td>\n",
       "      <td>5</td>\n",
       "      <td>4</td>\n",
       "      <td>...</td>\n",
       "      <td>3180</td>\n",
       "      <td>1150</td>\n",
       "      <td>688</td>\n",
       "      <td>1269</td>\n",
       "      <td>1200</td>\n",
       "      <td>839</td>\n",
       "      <td>795</td>\n",
       "      <td>25</td>\n",
       "      <td>25</td>\n",
       "      <td>0</td>\n",
       "    </tr>\n",
       "    <tr>\n",
       "      <th>6</th>\n",
       "      <td>13000</td>\n",
       "      <td>1</td>\n",
       "      <td>2</td>\n",
       "      <td>1</td>\n",
       "      <td>32</td>\n",
       "      <td>9</td>\n",
       "      <td>8</td>\n",
       "      <td>7</td>\n",
       "      <td>6</td>\n",
       "      <td>5</td>\n",
       "      <td>...</td>\n",
       "      <td>7606</td>\n",
       "      <td>7682</td>\n",
       "      <td>9682</td>\n",
       "      <td>1258</td>\n",
       "      <td>1400</td>\n",
       "      <td>230</td>\n",
       "      <td>176</td>\n",
       "      <td>76</td>\n",
       "      <td>2000</td>\n",
       "      <td>0</td>\n",
       "    </tr>\n",
       "    <tr>\n",
       "      <th>7</th>\n",
       "      <td>5500</td>\n",
       "      <td>1</td>\n",
       "      <td>2</td>\n",
       "      <td>1</td>\n",
       "      <td>31</td>\n",
       "      <td>9</td>\n",
       "      <td>8</td>\n",
       "      <td>7</td>\n",
       "      <td>6</td>\n",
       "      <td>5</td>\n",
       "      <td>...</td>\n",
       "      <td>1482</td>\n",
       "      <td>1607</td>\n",
       "      <td>305</td>\n",
       "      <td>319</td>\n",
       "      <td>278</td>\n",
       "      <td>450</td>\n",
       "      <td>132</td>\n",
       "      <td>125</td>\n",
       "      <td>305</td>\n",
       "      <td>0</td>\n",
       "    </tr>\n",
       "    <tr>\n",
       "      <th>8</th>\n",
       "      <td>6000</td>\n",
       "      <td>1</td>\n",
       "      <td>2</td>\n",
       "      <td>1</td>\n",
       "      <td>31</td>\n",
       "      <td>9</td>\n",
       "      <td>8</td>\n",
       "      <td>7</td>\n",
       "      <td>6</td>\n",
       "      <td>5</td>\n",
       "      <td>...</td>\n",
       "      <td>1311</td>\n",
       "      <td>442</td>\n",
       "      <td>818</td>\n",
       "      <td>516</td>\n",
       "      <td>26</td>\n",
       "      <td>239</td>\n",
       "      <td>1000</td>\n",
       "      <td>25</td>\n",
       "      <td>1818</td>\n",
       "      <td>0</td>\n",
       "    </tr>\n",
       "    <tr>\n",
       "      <th>9</th>\n",
       "      <td>3500</td>\n",
       "      <td>1</td>\n",
       "      <td>2</td>\n",
       "      <td>1</td>\n",
       "      <td>31</td>\n",
       "      <td>9</td>\n",
       "      <td>8</td>\n",
       "      <td>7</td>\n",
       "      <td>6</td>\n",
       "      <td>5</td>\n",
       "      <td>...</td>\n",
       "      <td>555</td>\n",
       "      <td>620</td>\n",
       "      <td>575</td>\n",
       "      <td>200</td>\n",
       "      <td>250</td>\n",
       "      <td>300</td>\n",
       "      <td>350</td>\n",
       "      <td>400</td>\n",
       "      <td>450</td>\n",
       "      <td>1</td>\n",
       "    </tr>\n",
       "    <tr>\n",
       "      <th>10</th>\n",
       "      <td>13000</td>\n",
       "      <td>2</td>\n",
       "      <td>2</td>\n",
       "      <td>1</td>\n",
       "      <td>42</td>\n",
       "      <td>-1</td>\n",
       "      <td>-1</td>\n",
       "      <td>-1</td>\n",
       "      <td>-1</td>\n",
       "      <td>-1</td>\n",
       "      <td>...</td>\n",
       "      <td>1351</td>\n",
       "      <td>1503</td>\n",
       "      <td>1822</td>\n",
       "      <td>706</td>\n",
       "      <td>220</td>\n",
       "      <td>746</td>\n",
       "      <td>1351</td>\n",
       "      <td>1503</td>\n",
       "      <td>1822</td>\n",
       "      <td>0</td>\n",
       "    </tr>\n",
       "    <tr>\n",
       "      <th>11</th>\n",
       "      <td>10000</td>\n",
       "      <td>2</td>\n",
       "      <td>2</td>\n",
       "      <td>1</td>\n",
       "      <td>42</td>\n",
       "      <td>-1</td>\n",
       "      <td>-1</td>\n",
       "      <td>-1</td>\n",
       "      <td>-1</td>\n",
       "      <td>-1</td>\n",
       "      <td>...</td>\n",
       "      <td>2121</td>\n",
       "      <td>1254</td>\n",
       "      <td>897</td>\n",
       "      <td>1290</td>\n",
       "      <td>1219</td>\n",
       "      <td>1383</td>\n",
       "      <td>2121</td>\n",
       "      <td>1254</td>\n",
       "      <td>897</td>\n",
       "      <td>0</td>\n",
       "    </tr>\n",
       "    <tr>\n",
       "      <th>12</th>\n",
       "      <td>9400</td>\n",
       "      <td>2</td>\n",
       "      <td>2</td>\n",
       "      <td>1</td>\n",
       "      <td>42</td>\n",
       "      <td>-1</td>\n",
       "      <td>-1</td>\n",
       "      <td>-1</td>\n",
       "      <td>-1</td>\n",
       "      <td>-1</td>\n",
       "      <td>...</td>\n",
       "      <td>112</td>\n",
       "      <td>377</td>\n",
       "      <td>394</td>\n",
       "      <td>286</td>\n",
       "      <td>127</td>\n",
       "      <td>601</td>\n",
       "      <td>112</td>\n",
       "      <td>377</td>\n",
       "      <td>394</td>\n",
       "      <td>0</td>\n",
       "    </tr>\n",
       "    <tr>\n",
       "      <th>13</th>\n",
       "      <td>9000</td>\n",
       "      <td>2</td>\n",
       "      <td>2</td>\n",
       "      <td>1</td>\n",
       "      <td>42</td>\n",
       "      <td>-1</td>\n",
       "      <td>-1</td>\n",
       "      <td>-1</td>\n",
       "      <td>-1</td>\n",
       "      <td>-1</td>\n",
       "      <td>...</td>\n",
       "      <td>340</td>\n",
       "      <td>347</td>\n",
       "      <td>117</td>\n",
       "      <td>592</td>\n",
       "      <td>373</td>\n",
       "      <td>247</td>\n",
       "      <td>340</td>\n",
       "      <td>347</td>\n",
       "      <td>117</td>\n",
       "      <td>0</td>\n",
       "    </tr>\n",
       "    <tr>\n",
       "      <th>14</th>\n",
       "      <td>10000</td>\n",
       "      <td>2</td>\n",
       "      <td>2</td>\n",
       "      <td>1</td>\n",
       "      <td>41</td>\n",
       "      <td>-1</td>\n",
       "      <td>-1</td>\n",
       "      <td>-1</td>\n",
       "      <td>-1</td>\n",
       "      <td>-1</td>\n",
       "      <td>...</td>\n",
       "      <td>2882</td>\n",
       "      <td>3091</td>\n",
       "      <td>3097</td>\n",
       "      <td>718</td>\n",
       "      <td>866</td>\n",
       "      <td>1528</td>\n",
       "      <td>2882</td>\n",
       "      <td>3091</td>\n",
       "      <td>3097</td>\n",
       "      <td>1</td>\n",
       "    </tr>\n",
       "    <tr>\n",
       "      <th>15</th>\n",
       "      <td>10000</td>\n",
       "      <td>2</td>\n",
       "      <td>2</td>\n",
       "      <td>1</td>\n",
       "      <td>40</td>\n",
       "      <td>-1</td>\n",
       "      <td>-1</td>\n",
       "      <td>-1</td>\n",
       "      <td>-1</td>\n",
       "      <td>-1</td>\n",
       "      <td>...</td>\n",
       "      <td>1094</td>\n",
       "      <td>2490</td>\n",
       "      <td>3692</td>\n",
       "      <td>3172</td>\n",
       "      <td>1032</td>\n",
       "      <td>883</td>\n",
       "      <td>1094</td>\n",
       "      <td>2490</td>\n",
       "      <td>3692</td>\n",
       "      <td>0</td>\n",
       "    </tr>\n",
       "    <tr>\n",
       "      <th>16</th>\n",
       "      <td>10000</td>\n",
       "      <td>2</td>\n",
       "      <td>2</td>\n",
       "      <td>1</td>\n",
       "      <td>39</td>\n",
       "      <td>-1</td>\n",
       "      <td>-1</td>\n",
       "      <td>-1</td>\n",
       "      <td>-1</td>\n",
       "      <td>-1</td>\n",
       "      <td>...</td>\n",
       "      <td>1772</td>\n",
       "      <td>2741</td>\n",
       "      <td>1973</td>\n",
       "      <td>1245</td>\n",
       "      <td>809</td>\n",
       "      <td>1052</td>\n",
       "      <td>1772</td>\n",
       "      <td>2741</td>\n",
       "      <td>1973</td>\n",
       "      <td>0</td>\n",
       "    </tr>\n",
       "    <tr>\n",
       "      <th>17</th>\n",
       "      <td>13000</td>\n",
       "      <td>2</td>\n",
       "      <td>2</td>\n",
       "      <td>1</td>\n",
       "      <td>41</td>\n",
       "      <td>-1</td>\n",
       "      <td>-1</td>\n",
       "      <td>-1</td>\n",
       "      <td>-1</td>\n",
       "      <td>-1</td>\n",
       "      <td>...</td>\n",
       "      <td>2285</td>\n",
       "      <td>2721</td>\n",
       "      <td>1700</td>\n",
       "      <td>395</td>\n",
       "      <td>1412</td>\n",
       "      <td>726</td>\n",
       "      <td>2285</td>\n",
       "      <td>2721</td>\n",
       "      <td>1700</td>\n",
       "      <td>0</td>\n",
       "    </tr>\n",
       "    <tr>\n",
       "      <th>18</th>\n",
       "      <td>13000</td>\n",
       "      <td>2</td>\n",
       "      <td>2</td>\n",
       "      <td>1</td>\n",
       "      <td>40</td>\n",
       "      <td>-1</td>\n",
       "      <td>-1</td>\n",
       "      <td>-1</td>\n",
       "      <td>-1</td>\n",
       "      <td>-1</td>\n",
       "      <td>...</td>\n",
       "      <td>1148</td>\n",
       "      <td>1445</td>\n",
       "      <td>1499</td>\n",
       "      <td>1369</td>\n",
       "      <td>1938</td>\n",
       "      <td>664</td>\n",
       "      <td>1148</td>\n",
       "      <td>1445</td>\n",
       "      <td>1499</td>\n",
       "      <td>0</td>\n",
       "    </tr>\n",
       "    <tr>\n",
       "      <th>19</th>\n",
       "      <td>10000</td>\n",
       "      <td>2</td>\n",
       "      <td>2</td>\n",
       "      <td>1</td>\n",
       "      <td>39</td>\n",
       "      <td>-1</td>\n",
       "      <td>-1</td>\n",
       "      <td>-1</td>\n",
       "      <td>-1</td>\n",
       "      <td>-1</td>\n",
       "      <td>...</td>\n",
       "      <td>1529</td>\n",
       "      <td>1931</td>\n",
       "      <td>1321</td>\n",
       "      <td>1504</td>\n",
       "      <td>1184</td>\n",
       "      <td>662</td>\n",
       "      <td>1529</td>\n",
       "      <td>1931</td>\n",
       "      <td>1321</td>\n",
       "      <td>1</td>\n",
       "    </tr>\n",
       "    <tr>\n",
       "      <th>20</th>\n",
       "      <td>3300</td>\n",
       "      <td>1</td>\n",
       "      <td>1</td>\n",
       "      <td>2</td>\n",
       "      <td>23</td>\n",
       "      <td>-1</td>\n",
       "      <td>6</td>\n",
       "      <td>4</td>\n",
       "      <td>0</td>\n",
       "      <td>0</td>\n",
       "      <td>...</td>\n",
       "      <td>0</td>\n",
       "      <td>0</td>\n",
       "      <td>0</td>\n",
       "      <td>352</td>\n",
       "      <td>100</td>\n",
       "      <td>10</td>\n",
       "      <td>0</td>\n",
       "      <td>0</td>\n",
       "      <td>0</td>\n",
       "      <td>0</td>\n",
       "    </tr>\n",
       "    <tr>\n",
       "      <th>21</th>\n",
       "      <td>2200</td>\n",
       "      <td>2</td>\n",
       "      <td>1</td>\n",
       "      <td>1</td>\n",
       "      <td>24</td>\n",
       "      <td>8</td>\n",
       "      <td>7</td>\n",
       "      <td>6</td>\n",
       "      <td>5</td>\n",
       "      <td>4</td>\n",
       "      <td>...</td>\n",
       "      <td>688</td>\n",
       "      <td>2422</td>\n",
       "      <td>2615</td>\n",
       "      <td>300</td>\n",
       "      <td>2000</td>\n",
       "      <td>1100</td>\n",
       "      <td>500</td>\n",
       "      <td>2500</td>\n",
       "      <td>200</td>\n",
       "      <td>0</td>\n",
       "    </tr>\n",
       "    <tr>\n",
       "      <th>22</th>\n",
       "      <td>1100</td>\n",
       "      <td>1</td>\n",
       "      <td>1</td>\n",
       "      <td>3</td>\n",
       "      <td>25</td>\n",
       "      <td>-1</td>\n",
       "      <td>0</td>\n",
       "      <td>-1</td>\n",
       "      <td>0</td>\n",
       "      <td>-1</td>\n",
       "      <td>...</td>\n",
       "      <td>0</td>\n",
       "      <td>7200</td>\n",
       "      <td>7430</td>\n",
       "      <td>7430</td>\n",
       "      <td>0</td>\n",
       "      <td>7682</td>\n",
       "      <td>0</td>\n",
       "      <td>7430</td>\n",
       "      <td>7430</td>\n",
       "      <td>0</td>\n",
       "    </tr>\n",
       "    <tr>\n",
       "      <th>23</th>\n",
       "      <td>4400</td>\n",
       "      <td>2</td>\n",
       "      <td>2</td>\n",
       "      <td>2</td>\n",
       "      <td>26</td>\n",
       "      <td>-1</td>\n",
       "      <td>2</td>\n",
       "      <td>0</td>\n",
       "      <td>1</td>\n",
       "      <td>2</td>\n",
       "      <td>...</td>\n",
       "      <td>1418</td>\n",
       "      <td>1450</td>\n",
       "      <td>0</td>\n",
       "      <td>347</td>\n",
       "      <td>117</td>\n",
       "      <td>0</td>\n",
       "      <td>700</td>\n",
       "      <td>100</td>\n",
       "      <td>0</td>\n",
       "      <td>0</td>\n",
       "    </tr>\n",
       "    <tr>\n",
       "      <th>24</th>\n",
       "      <td>5500</td>\n",
       "      <td>1</td>\n",
       "      <td>2</td>\n",
       "      <td>3</td>\n",
       "      <td>27</td>\n",
       "      <td>8</td>\n",
       "      <td>7</td>\n",
       "      <td>6</td>\n",
       "      <td>-1</td>\n",
       "      <td>-1</td>\n",
       "      <td>...</td>\n",
       "      <td>818</td>\n",
       "      <td>2622</td>\n",
       "      <td>2739</td>\n",
       "      <td>1000</td>\n",
       "      <td>300</td>\n",
       "      <td>818</td>\n",
       "      <td>818</td>\n",
       "      <td>2622</td>\n",
       "      <td>2739</td>\n",
       "      <td>1</td>\n",
       "    </tr>\n",
       "    <tr>\n",
       "      <th>25</th>\n",
       "      <td>6600</td>\n",
       "      <td>2</td>\n",
       "      <td>3</td>\n",
       "      <td>1</td>\n",
       "      <td>34</td>\n",
       "      <td>-1</td>\n",
       "      <td>0</td>\n",
       "      <td>-1</td>\n",
       "      <td>-1</td>\n",
       "      <td>-1</td>\n",
       "      <td>...</td>\n",
       "      <td>575</td>\n",
       "      <td>320</td>\n",
       "      <td>458</td>\n",
       "      <td>458</td>\n",
       "      <td>0</td>\n",
       "      <td>620</td>\n",
       "      <td>575</td>\n",
       "      <td>320</td>\n",
       "      <td>458</td>\n",
       "      <td>0</td>\n",
       "    </tr>\n",
       "    <tr>\n",
       "      <th>26</th>\n",
       "      <td>7700</td>\n",
       "      <td>1</td>\n",
       "      <td>3</td>\n",
       "      <td>3</td>\n",
       "      <td>36</td>\n",
       "      <td>0</td>\n",
       "      <td>-1</td>\n",
       "      <td>2</td>\n",
       "      <td>-1</td>\n",
       "      <td>-1</td>\n",
       "      <td>...</td>\n",
       "      <td>220</td>\n",
       "      <td>746</td>\n",
       "      <td>0</td>\n",
       "      <td>1351</td>\n",
       "      <td>1200</td>\n",
       "      <td>1822</td>\n",
       "      <td>220</td>\n",
       "      <td>746</td>\n",
       "      <td>0</td>\n",
       "      <td>0</td>\n",
       "    </tr>\n",
       "    <tr>\n",
       "      <th>27</th>\n",
       "      <td>8800</td>\n",
       "      <td>2</td>\n",
       "      <td>2</td>\n",
       "      <td>2</td>\n",
       "      <td>38</td>\n",
       "      <td>-1</td>\n",
       "      <td>-1</td>\n",
       "      <td>-1</td>\n",
       "      <td>-1</td>\n",
       "      <td>-1</td>\n",
       "      <td>...</td>\n",
       "      <td>897</td>\n",
       "      <td>1219</td>\n",
       "      <td>1383</td>\n",
       "      <td>1383</td>\n",
       "      <td>2121</td>\n",
       "      <td>1254</td>\n",
       "      <td>897</td>\n",
       "      <td>1219</td>\n",
       "      <td>1383</td>\n",
       "      <td>0</td>\n",
       "    </tr>\n",
       "    <tr>\n",
       "      <th>28</th>\n",
       "      <td>9900</td>\n",
       "      <td>1</td>\n",
       "      <td>1</td>\n",
       "      <td>3</td>\n",
       "      <td>40</td>\n",
       "      <td>-1</td>\n",
       "      <td>7</td>\n",
       "      <td>6</td>\n",
       "      <td>-1</td>\n",
       "      <td>-1</td>\n",
       "      <td>...</td>\n",
       "      <td>394</td>\n",
       "      <td>2721</td>\n",
       "      <td>1700</td>\n",
       "      <td>601</td>\n",
       "      <td>50</td>\n",
       "      <td>200</td>\n",
       "      <td>394</td>\n",
       "      <td>2721</td>\n",
       "      <td>1700</td>\n",
       "      <td>0</td>\n",
       "    </tr>\n",
       "    <tr>\n",
       "      <th>29</th>\n",
       "      <td>10100</td>\n",
       "      <td>2</td>\n",
       "      <td>2</td>\n",
       "      <td>1</td>\n",
       "      <td>39</td>\n",
       "      <td>9</td>\n",
       "      <td>8</td>\n",
       "      <td>7</td>\n",
       "      <td>6</td>\n",
       "      <td>5</td>\n",
       "      <td>...</td>\n",
       "      <td>2121</td>\n",
       "      <td>1254</td>\n",
       "      <td>800</td>\n",
       "      <td>500</td>\n",
       "      <td>800</td>\n",
       "      <td>1100</td>\n",
       "      <td>1500</td>\n",
       "      <td>200</td>\n",
       "      <td>200</td>\n",
       "      <td>1</td>\n",
       "    </tr>\n",
       "  </tbody>\n",
       "</table>\n",
       "<p>30 rows × 24 columns</p>\n",
       "</div>"
      ],
      "text/plain": [
       "       X1  X2  X3  X4  X5  X6  X7  X8  X9  X10 ...   X15   X16   X17   X18  \\\n",
       "0    5500   1   2   1  33  -1  -1  -1  -1   -1 ...   482   112   252   417   \n",
       "1   10000   1   2   1  33   9   9   9   8    7 ...  5000  8700  8900   800   \n",
       "2    5400   1   2   1  33   8   7   6   5    4 ...  4382  3792  3367  2000   \n",
       "3   15000   1   2   1  32   9   9   8   7    6 ...  2759  2900  3100  1800   \n",
       "4    2050   1   2   1  31  -1  -1  -1  -1   -1 ...   294    14    88   132   \n",
       "5    7500   1   2   1  31  -1   7   6   5    4 ...  3180  1150   688  1269   \n",
       "6   13000   1   2   1  32   9   8   7   6    5 ...  7606  7682  9682  1258   \n",
       "7    5500   1   2   1  31   9   8   7   6    5 ...  1482  1607   305   319   \n",
       "8    6000   1   2   1  31   9   8   7   6    5 ...  1311   442   818   516   \n",
       "9    3500   1   2   1  31   9   8   7   6    5 ...   555   620   575   200   \n",
       "10  13000   2   2   1  42  -1  -1  -1  -1   -1 ...  1351  1503  1822   706   \n",
       "11  10000   2   2   1  42  -1  -1  -1  -1   -1 ...  2121  1254   897  1290   \n",
       "12   9400   2   2   1  42  -1  -1  -1  -1   -1 ...   112   377   394   286   \n",
       "13   9000   2   2   1  42  -1  -1  -1  -1   -1 ...   340   347   117   592   \n",
       "14  10000   2   2   1  41  -1  -1  -1  -1   -1 ...  2882  3091  3097   718   \n",
       "15  10000   2   2   1  40  -1  -1  -1  -1   -1 ...  1094  2490  3692  3172   \n",
       "16  10000   2   2   1  39  -1  -1  -1  -1   -1 ...  1772  2741  1973  1245   \n",
       "17  13000   2   2   1  41  -1  -1  -1  -1   -1 ...  2285  2721  1700   395   \n",
       "18  13000   2   2   1  40  -1  -1  -1  -1   -1 ...  1148  1445  1499  1369   \n",
       "19  10000   2   2   1  39  -1  -1  -1  -1   -1 ...  1529  1931  1321  1504   \n",
       "20   3300   1   1   2  23  -1   6   4   0    0 ...     0     0     0   352   \n",
       "21   2200   2   1   1  24   8   7   6   5    4 ...   688  2422  2615   300   \n",
       "22   1100   1   1   3  25  -1   0  -1   0   -1 ...     0  7200  7430  7430   \n",
       "23   4400   2   2   2  26  -1   2   0   1    2 ...  1418  1450     0   347   \n",
       "24   5500   1   2   3  27   8   7   6  -1   -1 ...   818  2622  2739  1000   \n",
       "25   6600   2   3   1  34  -1   0  -1  -1   -1 ...   575   320   458   458   \n",
       "26   7700   1   3   3  36   0  -1   2  -1   -1 ...   220   746     0  1351   \n",
       "27   8800   2   2   2  38  -1  -1  -1  -1   -1 ...   897  1219  1383  1383   \n",
       "28   9900   1   1   3  40  -1   7   6  -1   -1 ...   394  2721  1700   601   \n",
       "29  10100   2   2   1  39   9   8   7   6    5 ...  2121  1254   800   500   \n",
       "\n",
       "     X19   X20   X21   X22   X23  y  \n",
       "0    570   987   482   112   252  0  \n",
       "1   3000   200  1000  3700   200  0  \n",
       "2    200   200   200   100   100  0  \n",
       "3    700   100   159   500   200  0  \n",
       "4    126   352   294    14    88  1  \n",
       "5   1200   839   795    25    25  0  \n",
       "6   1400   230   176    76  2000  0  \n",
       "7    278   450   132   125   305  0  \n",
       "8     26   239  1000    25  1818  0  \n",
       "9    250   300   350   400   450  1  \n",
       "10   220   746  1351  1503  1822  0  \n",
       "11  1219  1383  2121  1254   897  0  \n",
       "12   127   601   112   377   394  0  \n",
       "13   373   247   340   347   117  0  \n",
       "14   866  1528  2882  3091  3097  1  \n",
       "15  1032   883  1094  2490  3692  0  \n",
       "16   809  1052  1772  2741  1973  0  \n",
       "17  1412   726  2285  2721  1700  0  \n",
       "18  1938   664  1148  1445  1499  0  \n",
       "19  1184   662  1529  1931  1321  1  \n",
       "20   100    10     0     0     0  0  \n",
       "21  2000  1100   500  2500   200  0  \n",
       "22     0  7682     0  7430  7430  0  \n",
       "23   117     0   700   100     0  0  \n",
       "24   300   818   818  2622  2739  1  \n",
       "25     0   620   575   320   458  0  \n",
       "26  1200  1822   220   746     0  0  \n",
       "27  2121  1254   897  1219  1383  0  \n",
       "28    50   200   394  2721  1700  0  \n",
       "29   800  1100  1500   200   200  1  \n",
       "\n",
       "[30 rows x 24 columns]"
      ]
     },
     "execution_count": 111,
     "metadata": {},
     "output_type": "execute_result"
    }
   ],
   "source": [
    "real_csv_path = os.path.join('Real_Data_Sheet.csv')\n",
    "real_cc_df = pd.read_csv(real_csv_path)\n",
    "real_cc_df"
   ]
  },
  {
   "cell_type": "code",
   "execution_count": 112,
   "metadata": {},
   "outputs": [
    {
     "data": {
      "text/plain": [
       "X1     0\n",
       "X2     0\n",
       "X3     0\n",
       "X4     0\n",
       "X5     0\n",
       "X6     0\n",
       "X7     0\n",
       "X8     0\n",
       "X9     0\n",
       "X10    0\n",
       "X11    0\n",
       "X12    0\n",
       "X13    0\n",
       "X14    0\n",
       "X15    0\n",
       "X16    0\n",
       "X17    0\n",
       "X18    0\n",
       "X19    0\n",
       "X20    0\n",
       "X21    0\n",
       "X22    0\n",
       "X23    0\n",
       "y      0\n",
       "dtype: int64"
      ]
     },
     "execution_count": 112,
     "metadata": {},
     "output_type": "execute_result"
    }
   ],
   "source": [
    "real_cc_df.isnull().sum()"
   ]
  },
  {
   "cell_type": "code",
   "execution_count": 113,
   "metadata": {},
   "outputs": [
    {
     "data": {
      "text/plain": [
       "array([[ 5500,     1,     2,     1,    33,    -1,    -1,    -1,    -1,\n",
       "           -1,    -1,   417,   570,   987,   482,   112,   252,   417,\n",
       "          570,   987,   482,   112,   252],\n",
       "       [10000,     1,     2,     1,    33,     9,     9,     9,     8,\n",
       "            7,     6,   800,  3800,  4000,  5000,  8700,  8900,   800,\n",
       "         3000,   200,  1000,  3700,   200],\n",
       "       [ 5400,     1,     2,     1,    33,     8,     7,     6,     5,\n",
       "            4,     3,  3393,  4828,  4751,  4382,  3792,  3367,  2000,\n",
       "          200,   200,   200,   100,   100],\n",
       "       [15000,     1,     2,     1,    32,     9,     9,     8,     7,\n",
       "            6,     5,  1800,  2500,  2600,  2759,  2900,  3100,  1800,\n",
       "          700,   100,   159,   500,   200],\n",
       "       [ 2050,     1,     2,     1,    31,    -1,    -1,    -1,    -1,\n",
       "           -1,    -1,   132,   126,   352,   294,    14,    88,   132,\n",
       "          126,   352,   294,    14,    88],\n",
       "       [ 7500,     1,     2,     1,    31,    -1,     7,     6,     5,\n",
       "            4,     3,  1269,  2422,  2615,  3180,  1150,   688,  1269,\n",
       "         1200,   839,   795,    25,    25],\n",
       "       [13000,     1,     2,     1,    32,     9,     8,     7,     6,\n",
       "            5,     4,  5800,  7200,  7430,  7606,  7682,  9682,  1258,\n",
       "         1400,   230,   176,    76,  2000],\n",
       "       [ 5500,     1,     2,     1,    31,     9,     8,     7,     6,\n",
       "            5,     4,  2918,  1418,  1450,  1482,  1607,   305,   319,\n",
       "          278,   450,   132,   125,   305],\n",
       "       [ 6000,     1,     2,     1,    31,     9,     8,     7,     6,\n",
       "            5,     4,  2924,  2622,  2739,  1311,   442,   818,   516,\n",
       "           26,   239,  1000,    25,  1818],\n",
       "       [ 3500,     1,     2,     1,    31,     9,     8,     7,     6,\n",
       "            5,     4,   300,   320,   458,   555,   620,   575,   200,\n",
       "          250,   300,   350,   400,   450],\n",
       "       [13000,     2,     2,     1,    42,    -1,    -1,    -1,    -1,\n",
       "           -1,    -1,   706,   220,   746,  1351,  1503,  1822,   706,\n",
       "          220,   746,  1351,  1503,  1822],\n",
       "       [10000,     2,     2,     1,    42,    -1,    -1,    -1,    -1,\n",
       "           -1,    -1,  1290,  1219,  1383,  2121,  1254,   897,  1290,\n",
       "         1219,  1383,  2121,  1254,   897],\n",
       "       [ 9400,     2,     2,     1,    42,    -1,    -1,    -1,    -1,\n",
       "           -1,    -1,   286,   127,   601,   112,   377,   394,   286,\n",
       "          127,   601,   112,   377,   394],\n",
       "       [ 9000,     2,     2,     1,    42,    -1,    -1,    -1,    -1,\n",
       "           -1,    -1,   592,   373,   247,   340,   347,   117,   592,\n",
       "          373,   247,   340,   347,   117],\n",
       "       [10000,     2,     2,     1,    41,    -1,    -1,    -1,    -1,\n",
       "           -1,    -1,   718,   866,  1528,  2882,  3091,  3097,   718,\n",
       "          866,  1528,  2882,  3091,  3097],\n",
       "       [10000,     2,     2,     1,    40,    -1,    -1,    -1,    -1,\n",
       "           -1,    -1,  3172,  1032,   883,  1094,  2490,  3692,  3172,\n",
       "         1032,   883,  1094,  2490,  3692],\n",
       "       [10000,     2,     2,     1,    39,    -1,    -1,    -1,    -1,\n",
       "           -1,    -1,  1245,   809,  1052,  1772,  2741,  1973,  1245,\n",
       "          809,  1052,  1772,  2741,  1973],\n",
       "       [13000,     2,     2,     1,    41,    -1,    -1,    -1,    -1,\n",
       "           -1,    -1,   395,  1412,   726,  2285,  2721,  1700,   395,\n",
       "         1412,   726,  2285,  2721,  1700],\n",
       "       [13000,     2,     2,     1,    40,    -1,    -1,    -1,    -1,\n",
       "           -1,    -1,  1369,  1938,   664,  1148,  1445,  1499,  1369,\n",
       "         1938,   664,  1148,  1445,  1499],\n",
       "       [10000,     2,     2,     1,    39,    -1,    -1,    -1,    -1,\n",
       "           -1,    -1,  1504,  1184,   662,  1529,  1931,  1321,  1504,\n",
       "         1184,   662,  1529,  1931,  1321],\n",
       "       [ 3300,     1,     1,     2,    23,    -1,     6,     4,     0,\n",
       "            0,     0,   352,   294,    14,     0,     0,     0,   352,\n",
       "          100,    10,     0,     0,     0],\n",
       "       [ 2200,     2,     1,     1,    24,     8,     7,     6,     5,\n",
       "            4,     3,  2615,  3180,  1150,   688,  2422,  2615,   300,\n",
       "         2000,  1100,   500,  2500,   200],\n",
       "       [ 1100,     1,     1,     3,    25,    -1,     0,    -1,     0,\n",
       "           -1,    -1,  7430,     0,  7682,     0,  7200,  7430,  7430,\n",
       "            0,  7682,     0,  7430,  7430],\n",
       "       [ 4400,     2,     2,     2,    26,    -1,     2,     0,     1,\n",
       "            2,     0,  1482,  1607,     0,  1418,  1450,     0,   347,\n",
       "          117,     0,   700,   100,     0],\n",
       "       [ 5500,     1,     2,     3,    27,     8,     7,     6,    -1,\n",
       "           -1,    -1,  2739,  1311,   442,   818,  2622,  2739,  1000,\n",
       "          300,   818,   818,  2622,  2739],\n",
       "       [ 6600,     2,     3,     1,    34,    -1,     0,    -1,    -1,\n",
       "           -1,    -1,   458,     0,   620,   575,   320,   458,   458,\n",
       "            0,   620,   575,   320,   458],\n",
       "       [ 7700,     1,     3,     3,    36,     0,    -1,     2,    -1,\n",
       "           -1,    -1,  1351,  1503,  1822,   220,   746,     0,  1351,\n",
       "         1200,  1822,   220,   746,     0],\n",
       "       [ 8800,     2,     2,     2,    38,    -1,    -1,    -1,    -1,\n",
       "           -1,    -1,  1383,  2121,  1254,   897,  1219,  1383,  1383,\n",
       "         2121,  1254,   897,  1219,  1383],\n",
       "       [ 9900,     1,     1,     3,    40,    -1,     7,     6,    -1,\n",
       "           -1,    -1,   601,   112,   377,   394,  2721,  1700,   601,\n",
       "           50,   200,   394,  2721,  1700],\n",
       "       [10100,     2,     2,     1,    39,     9,     8,     7,     6,\n",
       "            5,     4,  1290,  1219,  1383,  2121,  1254,   800,   500,\n",
       "          800,  1100,  1500,   200,   200]])"
      ]
     },
     "execution_count": 113,
     "metadata": {},
     "output_type": "execute_result"
    }
   ],
   "source": [
    "X_Real = np.column_stack((real_cc_df.X1,real_cc_df.X2,real_cc_df.X3,real_cc_df.X4,real_cc_df.X5,real_cc_df.X6,real_cc_df.X7,real_cc_df.X8,real_cc_df.X9,real_cc_df.X10,real_cc_df.X11,real_cc_df.X12,real_cc_df.X13,real_cc_df.X14,real_cc_df.X15,real_cc_df.X16,real_cc_df.X17,real_cc_df.X18,real_cc_df.X19,real_cc_df.X20,real_cc_df.X21,real_cc_df.X22,real_cc_df.X23))\n",
    "# X = np.column_stack((cc_df.X2,cc_df.X3,cc_df.X4,cc_df.X5,cc_df.X6,cc_df.X7,cc_df.X8,cc_df.X9,cc_df.X10,cc_df.X11))\n",
    "X_Real"
   ]
  },
  {
   "cell_type": "code",
   "execution_count": 114,
   "metadata": {},
   "outputs": [
    {
     "data": {
      "text/plain": [
       "array([0, 0, 0, 0, 1, 0, 0, 0, 0, 1, 0, 0, 0, 0, 1, 0, 0, 0, 0, 1, 0, 0,\n",
       "       0, 0, 1, 0, 0, 0, 0, 1])"
      ]
     },
     "execution_count": 114,
     "metadata": {},
     "output_type": "execute_result"
    }
   ],
   "source": [
    "y_Real  = np.array((real_cc_df.y))\n",
    "y_Real"
   ]
  },
  {
   "cell_type": "code",
   "execution_count": 115,
   "metadata": {},
   "outputs": [
    {
     "data": {
      "text/plain": [
       "LogisticRegression(C=1.0, class_weight=None, dual=False, fit_intercept=True,\n",
       "          intercept_scaling=1, max_iter=100, multi_class='ovr', n_jobs=1,\n",
       "          penalty='l2', random_state=None, solver='liblinear', tol=0.0001,\n",
       "          verbose=0, warm_start=False)"
      ]
     },
     "execution_count": 115,
     "metadata": {},
     "output_type": "execute_result"
    }
   ],
   "source": [
    "classifier.fit(X_Real, y_Real)"
   ]
  },
  {
   "cell_type": "code",
   "execution_count": 116,
   "metadata": {},
   "outputs": [
    {
     "name": "stdout",
     "output_type": "stream",
     "text": [
      "Real Data Score: 1.0\n"
     ]
    }
   ],
   "source": [
    "print(f\"Real Data Score: {classifier.score(X_Real, y_Real)}\")"
   ]
  },
  {
   "cell_type": "code",
   "execution_count": null,
   "metadata": {
    "collapsed": true
   },
   "outputs": [],
   "source": []
  },
  {
   "cell_type": "markdown",
   "metadata": {},
   "source": [
    "## SVM"
   ]
  },
  {
   "cell_type": "code",
   "execution_count": null,
   "metadata": {
    "collapsed": true
   },
   "outputs": [],
   "source": [
    "# Support vector machine linear classifier\n",
    "from sklearn.svm import SVC \n",
    "from matplotlib import style\n",
    "style.use(\"ggplot\")\n",
    "model = SVC(kernel='linear')\n",
    "model.fit(X, y)"
   ]
  },
  {
   "cell_type": "code",
   "execution_count": null,
   "metadata": {
    "collapsed": true
   },
   "outputs": [],
   "source": [
    "# Fit to the training data and validate with the test data\n",
    "model = SVC(kernel='linear')\n",
    "model.fit(X_train, y_train)\n",
    "predictions = model.predict(X_test)"
   ]
  },
  {
   "cell_type": "code",
   "execution_count": null,
   "metadata": {},
   "outputs": [],
   "source": [
    "# Calculate classification report\n",
    "from sklearn.metrics import classification_report\n",
    "print(classification_report(y_test, predictions,\n",
    "                            target_names=[\"blue\", \"red\"]))"
   ]
  },
  {
   "cell_type": "markdown",
   "metadata": {},
   "source": [
    "## 'SVM' Predictions with Real Data"
   ]
  },
  {
   "cell_type": "code",
   "execution_count": null,
   "metadata": {
    "collapsed": true
   },
   "outputs": [],
   "source": [
    "from sklearn.svm import SVC \n",
    "model = SVC(kernel='linear')\n",
    "model.fit(X_Real, y_Real)\n",
    "predictions = model.predict(X_Real)"
   ]
  },
  {
   "cell_type": "code",
   "execution_count": null,
   "metadata": {},
   "outputs": [],
   "source": [
    "# Calculate classification report\n",
    "from sklearn.metrics import classification_report\n",
    "print(classification_report(y_Real, predictions,\n",
    "                            target_names=[\"blue\", \"red\"]))"
   ]
  },
  {
   "cell_type": "markdown",
   "metadata": {},
   "source": [
    "## KNN"
   ]
  },
  {
   "cell_type": "code",
   "execution_count": 47,
   "metadata": {},
   "outputs": [
    {
     "name": "stdout",
     "output_type": "stream",
     "text": [
      "k: 1, Train/Test Score: 0.999/0.695\n",
      "k: 3, Train/Test Score: 0.844/0.731\n",
      "k: 5, Train/Test Score: 0.818/0.753\n",
      "k: 7, Train/Test Score: 0.804/0.762\n",
      "k: 9, Train/Test Score: 0.798/0.766\n",
      "k: 11, Train/Test Score: 0.793/0.771\n",
      "k: 13, Train/Test Score: 0.790/0.771\n"
     ]
    },
    {
     "data": {
      "image/png": "[encoded data removed]",
      "text/plain": [
       "<matplotlib.figure.Figure at 0x1a1437ce80>"
      ]
     },
     "metadata": {},
     "output_type": "display_data"
    }
   ],
   "source": [
    "from sklearn.neighbors import KNeighborsClassifier\n",
    "%matplotlib inline\n",
    "import matplotlib.pyplot as plt\n",
    "\n",
    "# Loop through different k values to see which has the highest accuracy\n",
    "# Note: We only use odd numbers because we don't want any ties\n",
    "train_scores = []\n",
    "test_scores = []\n",
    "for k in range(1, 14, 2):\n",
    "    knn = KNeighborsClassifier(n_neighbors=k)\n",
    "    knn.fit(X_train, y_train)\n",
    "    train_score = knn.score(X_train, y_train)\n",
    "    test_score = knn.score(X_test, y_test)\n",
    "    train_scores.append(train_score)\n",
    "    test_scores.append(test_score)\n",
    "    print(f\"k: {k}, Train/Test Score: {train_score:.3f}/{test_score:.3f}\")\n",
    "    \n",
    "    \n",
    "plt.plot(range(1, 14, 2), train_scores, marker='o')\n",
    "plt.plot(range(1, 14, 2), test_scores, marker=\"x\")\n",
    "plt.xlabel(\"k neighbors\")\n",
    "plt.ylabel(\"Testing accuracy Score\")\n",
    "plt.show()"
   ]
  },
  {
   "cell_type": "code",
   "execution_count": 48,
   "metadata": {},
   "outputs": [
    {
     "name": "stdout",
     "output_type": "stream",
     "text": [
      "k=7 Test Acc: 0.762\n"
     ]
    }
   ],
   "source": [
    "# Note that k: 7 provides the best accuracy where the classifier starts to stablize\n",
    "knn = KNeighborsClassifier(n_neighbors=7)\n",
    "knn.fit(X_train, y_train)\n",
    "print('k=7 Test Acc: %.3f' % knn.score(X_test, y_test))"
   ]
  },
  {
   "cell_type": "markdown",
   "metadata": {},
   "source": [
    "## 'KNN' Predictions with Real Data"
   ]
  },
  {
   "cell_type": "code",
   "execution_count": 59,
   "metadata": {},
   "outputs": [
    {
     "name": "stdout",
     "output_type": "stream",
     "text": [
      "k=7 Test Acc: 0.800\n"
     ]
    }
   ],
   "source": [
    "#knn.fit(X_Real, y_Real)\n",
    "print('k=7 Test Acc: %.3f' % knn.score(X_Real, y_Real))"
   ]
  },
  {
   "cell_type": "markdown",
   "metadata": {},
   "source": [
    "## Random Forests"
   ]
  },
  {
   "cell_type": "code",
   "execution_count": 51,
   "metadata": {
    "collapsed": true
   },
   "outputs": [],
   "source": [
    "from sklearn.ensemble import RandomForestClassifier"
   ]
  },
  {
   "cell_type": "code",
   "execution_count": 52,
   "metadata": {},
   "outputs": [
    {
     "data": {
      "text/plain": [
       "0.9993333333333333"
      ]
     },
     "execution_count": 52,
     "metadata": {},
     "output_type": "execute_result"
    }
   ],
   "source": [
    "# Create a random forest classifier\n",
    "rf = RandomForestClassifier(n_estimators=200)\n",
    "rf = rf.fit(X_train, y_train)\n",
    "rf.score(X_train, y_train)"
   ]
  },
  {
   "cell_type": "markdown",
   "metadata": {},
   "source": [
    "## 'Random Forest' Predictions with Real Data"
   ]
  },
  {
   "cell_type": "code",
   "execution_count": 53,
   "metadata": {},
   "outputs": [
    {
     "data": {
      "text/plain": [
       "1.0"
      ]
     },
     "execution_count": 53,
     "metadata": {},
     "output_type": "execute_result"
    }
   ],
   "source": [
    "rf = rf.fit(X_Real, y_Real)\n",
    "rf.score(X_Real, y_Real)"
   ]
  },
  {
   "cell_type": "code",
   "execution_count": 45,
   "metadata": {},
   "outputs": [
    {
     "data": {
      "text/plain": [
       "array([0.06045178, 0.01186906, 0.0203948 , 0.01396335, 0.06688112,\n",
       "       0.09723982, 0.04170824, 0.02874547, 0.02464704, 0.0210998 ,\n",
       "       0.01815081, 0.06116561, 0.05425749, 0.05159007, 0.05064599,\n",
       "       0.04949204, 0.04958521, 0.05107828, 0.04713789, 0.04624281,\n",
       "       0.04339016, 0.04371523, 0.04654796])"
      ]
     },
     "execution_count": 45,
     "metadata": {},
     "output_type": "execute_result"
    }
   ],
   "source": [
    "# Random Forests in sklearn will automatically calculate feature importance\n",
    "importances = rf.feature_importances_\n",
    "importances"
   ]
  },
  {
   "cell_type": "markdown",
   "metadata": {},
   "source": [
    "## Decision Trees"
   ]
  },
  {
   "cell_type": "code",
   "execution_count": 60,
   "metadata": {
    "collapsed": true
   },
   "outputs": [],
   "source": [
    "from sklearn.tree import DecisionTreeClassifier\n",
    "dtree = DecisionTreeClassifier(criterion='entropy')"
   ]
  },
  {
   "cell_type": "code",
   "execution_count": 61,
   "metadata": {},
   "outputs": [
    {
     "data": {
      "text/plain": [
       "DecisionTreeClassifier(class_weight=None, criterion='entropy', max_depth=None,\n",
       "            max_features=None, max_leaf_nodes=None,\n",
       "            min_impurity_decrease=0.0, min_impurity_split=None,\n",
       "            min_samples_leaf=1, min_samples_split=2,\n",
       "            min_weight_fraction_leaf=0.0, presort=False, random_state=None,\n",
       "            splitter='best')"
      ]
     },
     "execution_count": 61,
     "metadata": {},
     "output_type": "execute_result"
    }
   ],
   "source": [
    "dtree.fit(X_train,y_train)"
   ]
  },
  {
   "cell_type": "code",
   "execution_count": 67,
   "metadata": {
    "collapsed": true
   },
   "outputs": [],
   "source": [
    "predictions_df = dtree.predict(X_test)"
   ]
  },
  {
   "cell_type": "code",
   "execution_count": 68,
   "metadata": {},
   "outputs": [
    {
     "name": "stdout",
     "output_type": "stream",
     "text": [
      "accuracy 0.7334666666666667\n",
      "confusion matrix\n",
      " [[4833 1008]\n",
      " [ 991  668]]\n"
     ]
    }
   ],
   "source": [
    "from sklearn.metrics import classification_report, accuracy_score, confusion_matrix, auc, roc_curve\n",
    "\n",
    "print('accuracy %s' % accuracy_score(y_test, predictions_df))\n",
    "cm = confusion_matrix(y_test, predictions_df)\n",
    "print('confusion matrix\\n %s' % cm)"
   ]
  },
  {
   "cell_type": "markdown",
   "metadata": {},
   "source": [
    "## 'Decision Trees' Predictions with Real Data"
   ]
  },
  {
   "cell_type": "code",
   "execution_count": 71,
   "metadata": {},
   "outputs": [
    {
     "name": "stdout",
     "output_type": "stream",
     "text": [
      "accuracy 1.0\n",
      "confusion matrix\n",
      " [[16  0]\n",
      " [ 0  4]]\n"
     ]
    }
   ],
   "source": [
    "dtree.fit(X_Real, y_Real)\n",
    "predictions_df_Real = dtree.predict(X_Real)\n",
    "\n",
    "from sklearn.metrics import classification_report, accuracy_score, confusion_matrix, auc, roc_curve\n",
    "\n",
    "print('accuracy %s' % accuracy_score(y_Real, predictions_df_Real))\n",
    "cm = confusion_matrix(y_Real, predictions_df_Real)\n",
    "print('confusion matrix\\n %s' % cm)"
   ]
  },
  {
   "cell_type": "code",
   "execution_count": null,
   "metadata": {
    "collapsed": true
   },
   "outputs": [],
   "source": []
  }
 ],
 "metadata": {
  "kernelspec": {
   "display_name": "Python 3",
   "language": "python",
   "name": "python3"
  },
  "language_info": {
   "codemirror_mode": {
    "name": "ipython",
    "version": 3
   },
   "file_extension": ".py",
   "mimetype": "text/x-python",
   "name": "python",
   "nbconvert_exporter": "python",
   "pygments_lexer": "ipython3",
   "version": "3.6.3"
  }
 },
 "nbformat": 4,
 "nbformat_minor": 2
}

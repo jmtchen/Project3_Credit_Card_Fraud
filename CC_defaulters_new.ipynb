{
 "cells": [
  {
   "cell_type": "code",
   "execution_count": 24,
   "metadata": {
    "collapsed": true
   },
   "outputs": [],
   "source": [
    "import pandas as pd\n",
    "import csv\n",
    "import os\n",
    "import numpy as np\n",
    "from sklearn.svm import SVC \n",
    "from matplotlib import style\n",
    "import matplotlib.pyplot as plt\n",
    "from sklearn import preprocessing\n",
    "style.use(\"ggplot\")\n"
   ]
  },
  {
   "cell_type": "code",
   "execution_count": 25,
   "metadata": {},
   "outputs": [
    {
     "data": {
      "text/html": [
       "<div>\n",
       "<style>\n",
       "    .dataframe thead tr:only-child th {\n",
       "        text-align: right;\n",
       "    }\n",
       "\n",
       "    .dataframe thead th {\n",
       "        text-align: left;\n",
       "    }\n",
       "\n",
       "    .dataframe tbody tr th {\n",
       "        vertical-align: top;\n",
       "    }\n",
       "</style>\n",
       "<table border=\"1\" class=\"dataframe\">\n",
       "  <thead>\n",
       "    <tr style=\"text-align: right;\">\n",
       "      <th></th>\n",
       "      <th>X1</th>\n",
       "      <th>X2</th>\n",
       "      <th>X3</th>\n",
       "      <th>X4</th>\n",
       "      <th>X5</th>\n",
       "      <th>X6</th>\n",
       "      <th>X7</th>\n",
       "      <th>X8</th>\n",
       "      <th>X9</th>\n",
       "      <th>X10</th>\n",
       "      <th>...</th>\n",
       "      <th>X15</th>\n",
       "      <th>X16</th>\n",
       "      <th>X17</th>\n",
       "      <th>X18</th>\n",
       "      <th>X19</th>\n",
       "      <th>X20</th>\n",
       "      <th>X21</th>\n",
       "      <th>X22</th>\n",
       "      <th>X23</th>\n",
       "      <th>y</th>\n",
       "    </tr>\n",
       "  </thead>\n",
       "  <tbody>\n",
       "    <tr>\n",
       "      <th>0</th>\n",
       "      <td>5500</td>\n",
       "      <td>1</td>\n",
       "      <td>2</td>\n",
       "      <td>1</td>\n",
       "      <td>33</td>\n",
       "      <td>-1</td>\n",
       "      <td>-1</td>\n",
       "      <td>-1</td>\n",
       "      <td>-1</td>\n",
       "      <td>-1</td>\n",
       "      <td>...</td>\n",
       "      <td>482</td>\n",
       "      <td>112</td>\n",
       "      <td>252</td>\n",
       "      <td>417</td>\n",
       "      <td>570</td>\n",
       "      <td>987</td>\n",
       "      <td>482</td>\n",
       "      <td>112</td>\n",
       "      <td>252</td>\n",
       "      <td>0</td>\n",
       "    </tr>\n",
       "    <tr>\n",
       "      <th>1</th>\n",
       "      <td>10000</td>\n",
       "      <td>1</td>\n",
       "      <td>2</td>\n",
       "      <td>1</td>\n",
       "      <td>33</td>\n",
       "      <td>9</td>\n",
       "      <td>9</td>\n",
       "      <td>9</td>\n",
       "      <td>8</td>\n",
       "      <td>7</td>\n",
       "      <td>...</td>\n",
       "      <td>5000</td>\n",
       "      <td>8700</td>\n",
       "      <td>8900</td>\n",
       "      <td>800</td>\n",
       "      <td>3000</td>\n",
       "      <td>200</td>\n",
       "      <td>1000</td>\n",
       "      <td>3700</td>\n",
       "      <td>200</td>\n",
       "      <td>0</td>\n",
       "    </tr>\n",
       "    <tr>\n",
       "      <th>2</th>\n",
       "      <td>5400</td>\n",
       "      <td>1</td>\n",
       "      <td>2</td>\n",
       "      <td>1</td>\n",
       "      <td>33</td>\n",
       "      <td>8</td>\n",
       "      <td>7</td>\n",
       "      <td>6</td>\n",
       "      <td>5</td>\n",
       "      <td>4</td>\n",
       "      <td>...</td>\n",
       "      <td>4382</td>\n",
       "      <td>3792</td>\n",
       "      <td>3367</td>\n",
       "      <td>2000</td>\n",
       "      <td>200</td>\n",
       "      <td>200</td>\n",
       "      <td>200</td>\n",
       "      <td>100</td>\n",
       "      <td>100</td>\n",
       "      <td>0</td>\n",
       "    </tr>\n",
       "    <tr>\n",
       "      <th>3</th>\n",
       "      <td>15000</td>\n",
       "      <td>1</td>\n",
       "      <td>2</td>\n",
       "      <td>1</td>\n",
       "      <td>32</td>\n",
       "      <td>9</td>\n",
       "      <td>9</td>\n",
       "      <td>8</td>\n",
       "      <td>7</td>\n",
       "      <td>6</td>\n",
       "      <td>...</td>\n",
       "      <td>2759</td>\n",
       "      <td>2900</td>\n",
       "      <td>3100</td>\n",
       "      <td>1800</td>\n",
       "      <td>700</td>\n",
       "      <td>100</td>\n",
       "      <td>159</td>\n",
       "      <td>500</td>\n",
       "      <td>200</td>\n",
       "      <td>0</td>\n",
       "    </tr>\n",
       "    <tr>\n",
       "      <th>4</th>\n",
       "      <td>2050</td>\n",
       "      <td>1</td>\n",
       "      <td>2</td>\n",
       "      <td>1</td>\n",
       "      <td>31</td>\n",
       "      <td>-1</td>\n",
       "      <td>-1</td>\n",
       "      <td>-1</td>\n",
       "      <td>-1</td>\n",
       "      <td>-1</td>\n",
       "      <td>...</td>\n",
       "      <td>294</td>\n",
       "      <td>14</td>\n",
       "      <td>88</td>\n",
       "      <td>132</td>\n",
       "      <td>126</td>\n",
       "      <td>352</td>\n",
       "      <td>294</td>\n",
       "      <td>14</td>\n",
       "      <td>88</td>\n",
       "      <td>1</td>\n",
       "    </tr>\n",
       "  </tbody>\n",
       "</table>\n",
       "<p>5 rows × 24 columns</p>\n",
       "</div>"
      ],
      "text/plain": [
       "      X1  X2  X3  X4  X5  X6  X7  X8  X9  X10 ...   X15   X16   X17   X18  \\\n",
       "0   5500   1   2   1  33  -1  -1  -1  -1   -1 ...   482   112   252   417   \n",
       "1  10000   1   2   1  33   9   9   9   8    7 ...  5000  8700  8900   800   \n",
       "2   5400   1   2   1  33   8   7   6   5    4 ...  4382  3792  3367  2000   \n",
       "3  15000   1   2   1  32   9   9   8   7    6 ...  2759  2900  3100  1800   \n",
       "4   2050   1   2   1  31  -1  -1  -1  -1   -1 ...   294    14    88   132   \n",
       "\n",
       "    X19  X20   X21   X22  X23  y  \n",
       "0   570  987   482   112  252  0  \n",
       "1  3000  200  1000  3700  200  0  \n",
       "2   200  200   200   100  100  0  \n",
       "3   700  100   159   500  200  0  \n",
       "4   126  352   294    14   88  1  \n",
       "\n",
       "[5 rows x 24 columns]"
      ]
     },
     "execution_count": 25,
     "metadata": {},
     "output_type": "execute_result"
    }
   ],
   "source": [
    "csv_path = os.path.join('Real_Data - Sheet.csv')\n",
    "cc_df = pd.read_csv(csv_path)\n",
    "cc_df.head()"
   ]
  },
  {
   "cell_type": "code",
   "execution_count": 56,
   "metadata": {},
   "outputs": [
    {
     "name": "stderr",
     "output_type": "stream",
     "text": [
      "/Users/pooja/anaconda3/lib/python3.6/site-packages/sklearn/utils/validation.py:475: DataConversionWarning: Data with input dtype int64 was converted to float64 by the scale function.\n",
      "  warnings.warn(msg, DataConversionWarning)\n"
     ]
    },
    {
     "data": {
      "text/plain": [
       "array([[-0.90965409, -0.75353446],\n",
       "       [ 1.73982383,  1.99584803],\n",
       "       [ 0.94498046,  1.0793872 ],\n",
       "       [ 1.47487604,  1.69036109],\n",
       "       [-0.90965409, -0.75353446],\n",
       "       [ 0.94498046,  1.0793872 ],\n",
       "       [ 1.20992825,  1.38487415],\n",
       "       [ 1.20992825,  1.38487415],\n",
       "       [ 1.20992825,  1.38487415],\n",
       "       [ 1.20992825,  1.38487415],\n",
       "       [-0.90965409, -0.75353446],\n",
       "       [-0.90965409, -0.75353446],\n",
       "       [-0.90965409, -0.75353446],\n",
       "       [-0.90965409, -0.75353446],\n",
       "       [-0.90965409, -0.75353446],\n",
       "       [-0.90965409, -0.75353446],\n",
       "       [-0.90965409, -0.75353446],\n",
       "       [-0.90965409, -0.75353446],\n",
       "       [-0.90965409, -0.75353446],\n",
       "       [-0.90965409, -0.75353446],\n",
       "       [ 0.41508487, -0.44804752],\n",
       "       [ 0.94498046,  1.0793872 ],\n",
       "       [-0.90965409, -0.44804752],\n",
       "       [-0.64470629, -0.14256057],\n",
       "       [ 0.94498046, -0.75353446],\n",
       "       [-0.90965409, -0.75353446],\n",
       "       [-0.11481071, -0.75353446],\n",
       "       [-0.90965409, -0.75353446],\n",
       "       [ 0.94498046, -0.75353446],\n",
       "       [ 1.20992825,  1.38487415]])"
      ]
     },
     "execution_count": 56,
     "metadata": {},
     "output_type": "execute_result"
    }
   ],
   "source": [
    "X = np.column_stack((cc_df.X8,cc_df.X9))\n",
    "\n",
    "y  = np.array((cc_df.y))\n",
    "\n",
    "\n",
    "X = preprocessing.scale(X)\n",
    "\n",
    "X"
   ]
  },
  {
   "cell_type": "code",
   "execution_count": 57,
   "metadata": {
    "collapsed": true
   },
   "outputs": [],
   "source": [
    "from sklearn.model_selection import train_test_split\n",
    "X_train, X_test, y_train, y_test = train_test_split(X, y,random_state=1, stratify=y)"
   ]
  },
  {
   "cell_type": "code",
   "execution_count": 58,
   "metadata": {},
   "outputs": [
    {
     "data": {
      "text/plain": [
       "SVC(C=1.0, cache_size=200, class_weight=None, coef0=0.0,\n",
       "  decision_function_shape='ovr', degree=3, gamma='auto', kernel='linear',\n",
       "  max_iter=-1, probability=False, random_state=None, shrinking=True,\n",
       "  tol=0.001, verbose=False)"
      ]
     },
     "execution_count": 58,
     "metadata": {},
     "output_type": "execute_result"
    }
   ],
   "source": [
    "from sklearn.svm import SVC \n",
    "# from sklearn.svm import SVC \n",
    "from matplotlib import style\n",
    "style.use(\"ggplot\")\n",
    "model = SVC(kernel='linear')\n",
    "# model.fit(X, y)\n",
    "model.fit(X_train, y_train)"
   ]
  },
  {
   "cell_type": "code",
   "execution_count": 59,
   "metadata": {},
   "outputs": [
    {
     "name": "stdout",
     "output_type": "stream",
     "text": [
      "Test Acc: 0.750\n"
     ]
    }
   ],
   "source": [
    "print('Test Acc: %.3f' % model.score(X_test, y_test))"
   ]
  },
  {
   "cell_type": "code",
   "execution_count": 60,
   "metadata": {
    "collapsed": true
   },
   "outputs": [],
   "source": [
    "model = SVC(kernel='linear')\n",
    "model.fit(X_train, y_train)\n",
    "predictions = model.predict(X_test)"
   ]
  },
  {
   "cell_type": "code",
   "execution_count": 61,
   "metadata": {},
   "outputs": [
    {
     "name": "stderr",
     "output_type": "stream",
     "text": [
      "/Users/pooja/anaconda3/lib/python3.6/site-packages/matplotlib/contour.py:1180: UserWarning: No contour levels were found within the data range.\n",
      "  warnings.warn(\"No contour levels were found\"\n"
     ]
    },
    {
     "data": {
      "image/png": "[encoded data removed]",
      "text/plain": [
       "<matplotlib.figure.Figure at 0x1a1a36ea58>"
      ]
     },
     "metadata": {},
     "output_type": "display_data"
    }
   ],
   "source": [
    "x_min = X[:, 0].min()\n",
    "x_max = X[:, 0].max()\n",
    "y_min = X[:, 1].min()\n",
    "y_max = X[:, 1].max()\n",
    "\n",
    "XX, YY = np.mgrid[x_min:x_max, y_min:y_max]\n",
    "Z = model.decision_function(np.c_[XX.ravel(), YY.ravel()])\n",
    "\n",
    "# Put the result into a color plot\n",
    "Z = Z.reshape(XX.shape)\n",
    "# plt.pcolormesh(XX, YY, Z > 0, cmap=plt.cm.Paired)\n",
    "plt.contour(XX, YY, Z, colors=['k', 'k', 'k'],\n",
    "            linestyles=['--', '-', '--'], levels=[-.5, 0, .5])\n",
    "plt.scatter(X[:, 0], X[:, 1], c=y, cmap='bwr', edgecolor='k', s=100)\n",
    "plt.show()"
   ]
  },
  {
   "cell_type": "code",
   "execution_count": null,
   "metadata": {
    "collapsed": true
   },
   "outputs": [],
   "source": []
  }
 ],
 "metadata": {
  "kernelspec": {
   "display_name": "Python 3",
   "language": "python",
   "name": "python3"
  },
  "language_info": {
   "codemirror_mode": {
    "name": "ipython",
    "version": 3
   },
   "file_extension": ".py",
   "mimetype": "text/x-python",
   "name": "python",
   "nbconvert_exporter": "python",
   "pygments_lexer": "ipython3",
   "version": "3.6.3"
  }
 },
 "nbformat": 4,
 "nbformat_minor": 2
}
